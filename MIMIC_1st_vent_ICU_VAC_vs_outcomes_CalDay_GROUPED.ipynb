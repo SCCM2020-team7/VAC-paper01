{
 "cells": [
  {
   "cell_type": "code",
   "execution_count": null,
   "metadata": {
    "id": "f5Kq9e31M5D7"
   },
   "outputs": [],
   "source": [
    "###### @authors: Lasith Adhikari and Anusha Madushani  #####\n",
    "############ Created on Mar 22, 2020 (Python 3)############\n",
    "# Updated on Aug 30, 2020\n",
    "# Code description: \n",
    "# Detect and label for VAC events for mechanically ventialted patients - grouped version for Fio2 and Peep"
   ]
  },
  {
   "cell_type": "code",
   "execution_count": 8,
   "metadata": {
    "colab": {
     "base_uri": "https://localhost:8080/",
     "height": 51
    },
    "executionInfo": {
     "elapsed": 1971,
     "status": "ok",
     "timestamp": 1599520212494,
     "user": {
      "displayName": "LASITH ADHIKARI",
      "photoUrl": "",
      "userId": "10681536570841516456"
     },
     "user_tz": 240
    },
    "id": "1u_kny0meR6S",
    "outputId": "63007ad1-ef22-45eb-bc41-f70fe1bdfdc6"
   },
   "outputs": [],
   "source": [
    "## Imports all the packages. \n",
    "import numpy as np\n",
    "import pandas as pd\n",
    "import os\n",
    "import pdb\n",
    "\n",
    "import random\n",
    "from IPython.core.display import display, HTML\n",
    "import scipy.stats as stats\n",
    "from tabulate import tabulate\n",
    "import seaborn as sns\n",
    "import matplotlib.pyplot as plt\n",
    "\n",
    "# from google.colab import auth\n",
    "# from google.cloud import bigquery\n",
    "# from google.colab import files\n",
    "import os\n",
    "import datetime"
   ]
  },
  {
   "cell_type": "code",
   "execution_count": null,
   "metadata": {
    "id": "xarjM7jhNTk6"
   },
   "outputs": [],
   "source": [
    "auth.authenticate_user() # authenticating "
   ]
  },
  {
   "cell_type": "code",
   "execution_count": null,
   "metadata": {
    "colab": {
     "base_uri": "https://localhost:8080/",
     "height": 122
    },
    "executionInfo": {
     "elapsed": 21683,
     "status": "ok",
     "timestamp": 1598842129971,
     "user": {
      "displayName": "LASITH ADHIKARI",
      "photoUrl": "",
      "userId": "10681536570841516456"
     },
     "user_tz": 240
    },
    "id": "LckaoAK3NWTP",
    "outputId": "92041f0b-a15e-4ffc-9f7b-017903a1609e"
   },
   "outputs": [
    {
     "name": "stdout",
     "output_type": "stream",
     "text": [
      "Go to this URL in a browser: https://accounts.google.com/o/oauth2/auth?client_id=947318989803-6bn6qk8qdgf4n4g3pfee6491hc0brc4i.apps.googleusercontent.com&redirect_uri=urn%3aietf%3awg%3aoauth%3a2.0%3aoob&scope=email%20https%3a%2f%2fwww.googleapis.com%2fauth%2fdocs.test%20https%3a%2f%2fwww.googleapis.com%2fauth%2fdrive%20https%3a%2f%2fwww.googleapis.com%2fauth%2fdrive.photos.readonly%20https%3a%2f%2fwww.googleapis.com%2fauth%2fpeopleapi.readonly&response_type=code\n",
      "\n",
      "Enter your authorization code:\n",
      "··········\n",
      "Mounted at /content/drive\n"
     ]
    }
   ],
   "source": [
    "# from Google Drive\n",
    "from google.colab import drive\n",
    "drive.mount('/content/drive')"
   ]
  },
  {
   "cell_type": "code",
   "execution_count": 2,
   "metadata": {
    "id": "Hpy48NZKO8LE"
   },
   "outputs": [],
   "source": [
    "# path to base folder (right click on the directory: SCCM 2020 Datathon, and select 'Add to my Drive' in order to appear on My Drive)\n",
    "# drive_folder = '/content/drive/My Drive/SCCM 2020 Datathon/' \n",
    "\n",
    "drive_folder = '/labs/kamaleswaranlab/resp_failure/data/VAC data/'"
   ]
  },
  {
   "cell_type": "code",
   "execution_count": null,
   "metadata": {
    "id": "1tYAytV-I7pM"
   },
   "outputs": [],
   "source": [
    "# Note that this should be the project for the datathon work\n",
    "project_id = 'sccm-datathon'\n",
    "os.environ['GOOGLE_CLOUD_PROJECT'] = project_id\n",
    "\n",
    "# Read data from BigQuery into pandas dataframes.\n",
    "def run_query(query):\n",
    "  return pd.io.gbq.read_gbq(\n",
    "      query,\n",
    "      project_id=project_id,\n",
    "      dialect='standard')"
   ]
  },
  {
   "cell_type": "code",
   "execution_count": 3,
   "metadata": {
    "id": "tUQw1_Avf0uO"
   },
   "outputs": [],
   "source": [
    "# function to label VAC or NO VAC for a given patient data - grouped version \n",
    "def is_VAC(df_, peep_change='low', fio2_change='low', min_baseline_period=2):\n",
    "\n",
    "  # define groups:\n",
    "  peep_gps = {'low':[0.99,3], 'med':[3,6], 'high':[6,100]} # Low=[1:3], Med=(3:6], High>6\n",
    "  fio2_gps = {'low':[9.99,20], 'med':[20,50], 'high':[50,100]} # low=[10:20], med=(20:50], high>50\n",
    "\n",
    "  # replace all 0 to 5  peep by 5:\n",
    "  df = df_.copy()\n",
    "  df.loc[(df['min_peep']>=0) & (df['min_peep']<=5), 'min_peep'] = 5\n",
    "\n",
    "  for index, row in df.iterrows():\n",
    "\n",
    "    peep_missing = False\n",
    "    fio2_missing = False\n",
    "    stable = np.nan\n",
    "\n",
    "    if index >= min_baseline_period:\n",
    "\n",
    "      #### check for stability end ####\n",
    "\n",
    "      if ~df.loc[index-min_baseline_period: index-1,'min_peep'].isnull().any(): \n",
    "        # PEEP:\n",
    "        if np.sum(df.loc[index-min_baseline_period: index-1,'min_peep'].diff()>0) == 0:\n",
    "          peep_stable = True\n",
    "        else:\n",
    "          peep_stable = False\n",
    "      else:\n",
    "        peep_missing = True\n",
    "    \n",
    "      # FIO2:\n",
    "      if ~df.loc[index-min_baseline_period: index-1,'min_fio2'].isnull().any(): \n",
    "        if np.sum(df.loc[index-min_baseline_period: index-1,'min_fio2'].diff()>0) == 0:\n",
    "          fio2_stable = True\n",
    "        else:\n",
    "          fio2_stable = False\n",
    "      else:\n",
    "        fio2_missing = True\n",
    "\n",
    "      if (peep_missing & fio2_missing):\n",
    "        continue\n",
    "      elif (peep_missing & ~fio2_missing):\n",
    "        stable = fio2_stable\n",
    "      elif (~peep_missing & fio2_missing):\n",
    "        stable = peep_stable\n",
    "      else:\n",
    "        stable = (peep_stable & fio2_stable)\n",
    "\n",
    "      #print(index)\n",
    "      if not stable:\n",
    "        if index == min_baseline_period:\n",
    "          continue\n",
    "        else: \n",
    "          break\n",
    "      \n",
    "  # pick max value within the stable baseline period: i.e. same as the first day value of the baseline period\n",
    "  max_peep_stability_period = df.loc[index-min_baseline_period-1: index-min_baseline_period,'min_peep'].max()\n",
    "  max_fio2_stability_period = df.loc[index-min_baseline_period-1: index-min_baseline_period,'min_fio2'].max()\n",
    "\n",
    "  \n",
    "  # generate variables to check if the worsening oxygenation period was sustained for 2 periods\n",
    "  IsPeep_decs =  np.sum(df.loc[index-1: index,'min_peep'].diff()<0) # >0 if PEEP decreased after instability?\n",
    "  IsFio2_decs =  np.sum(df.loc[index-1: index,'min_fio2'].diff()<0) # >0 if FiO2 decreased after instability?\n",
    "\n",
    "  peep_change_now = (df.loc[index-1,'min_peep'] - max_peep_stability_period)\n",
    "  fio2_change_now = (df.loc[index-1,'min_fio2'] - max_fio2_stability_period)\n",
    "  isPeepChange_significant = (peep_change_now > peep_gps[peep_change][0]) & (peep_change_now <= peep_gps[peep_change][1])\n",
    "  isFiO2Change_significant = (fio2_change_now > fio2_gps[fio2_change][0]) & (fio2_change_now <= fio2_gps[fio2_change][1])\n",
    "\n",
    "  if (isPeepChange_significant & (IsPeep_decs==0)):\n",
    "    return (row['patientunitstayid'], df.loc[index-2,'time_hr'], df.loc[index-1,'time_hr'], 'VAC', stable)\n",
    "  elif (isFiO2Change_significant & (IsFio2_decs==0)):\n",
    "    return (row['patientunitstayid'], df.loc[index-2,'time_hr'], df.loc[index-1,'time_hr'], 'VAC', stable)\n",
    "  else:\n",
    "    return (row['patientunitstayid'], df.loc[index-2,'time_hr'], df.loc[index-1,'time_hr'], 'No VAC', stable)\n"
   ]
  },
  {
   "cell_type": "code",
   "execution_count": null,
   "metadata": {
    "id": "qtwUXP-n9XGV"
   },
   "outputs": [],
   "source": [
    "\n"
   ]
  },
  {
   "cell_type": "code",
   "execution_count": 4,
   "metadata": {
    "colab": {
     "base_uri": "https://localhost:8080/",
     "height": 1000
    },
    "executionInfo": {
     "elapsed": 850353,
     "status": "ok",
     "timestamp": 1598843215593,
     "user": {
      "displayName": "LASITH ADHIKARI",
      "photoUrl": "",
      "userId": "10681536570841516456"
     },
     "user_tz": 240
    },
    "id": "AsHcgzODbeJU",
    "outputId": "6948d31f-b295-4d53-bd8d-3df61b4f5059"
   },
   "outputs": [
    {
     "name": "stdout",
     "output_type": "stream",
     "text": [
      "Current iteration: delta_Fio2: low ,delta_Peep: low\n",
      "1000 patientunitstayids done...\n",
      "2000 patientunitstayids done...\n",
      "3000 patientunitstayids done...\n",
      "4000 patientunitstayids done...\n",
      "5000 patientunitstayids done...\n",
      "6000 patientunitstayids done...\n",
      "7000 patientunitstayids done...\n",
      "Current iteration: delta_Fio2: low ,delta_Peep: med\n",
      "1000 patientunitstayids done...\n",
      "2000 patientunitstayids done...\n",
      "3000 patientunitstayids done...\n",
      "4000 patientunitstayids done...\n",
      "5000 patientunitstayids done...\n",
      "6000 patientunitstayids done...\n",
      "7000 patientunitstayids done...\n",
      "Current iteration: delta_Fio2: low ,delta_Peep: high\n",
      "1000 patientunitstayids done...\n",
      "2000 patientunitstayids done...\n",
      "3000 patientunitstayids done...\n",
      "4000 patientunitstayids done...\n",
      "5000 patientunitstayids done...\n",
      "6000 patientunitstayids done...\n",
      "7000 patientunitstayids done...\n",
      "Current iteration: delta_Fio2: med ,delta_Peep: low\n",
      "1000 patientunitstayids done...\n",
      "2000 patientunitstayids done...\n",
      "3000 patientunitstayids done...\n",
      "4000 patientunitstayids done...\n",
      "5000 patientunitstayids done...\n",
      "6000 patientunitstayids done...\n",
      "7000 patientunitstayids done...\n",
      "Current iteration: delta_Fio2: med ,delta_Peep: med\n",
      "1000 patientunitstayids done...\n",
      "2000 patientunitstayids done...\n",
      "3000 patientunitstayids done...\n",
      "4000 patientunitstayids done...\n",
      "5000 patientunitstayids done...\n",
      "6000 patientunitstayids done...\n",
      "7000 patientunitstayids done...\n",
      "Current iteration: delta_Fio2: med ,delta_Peep: high\n",
      "1000 patientunitstayids done...\n",
      "2000 patientunitstayids done...\n",
      "3000 patientunitstayids done...\n",
      "4000 patientunitstayids done...\n",
      "5000 patientunitstayids done...\n",
      "6000 patientunitstayids done...\n",
      "7000 patientunitstayids done...\n",
      "Current iteration: delta_Fio2: high ,delta_Peep: low\n",
      "1000 patientunitstayids done...\n",
      "2000 patientunitstayids done...\n",
      "3000 patientunitstayids done...\n",
      "4000 patientunitstayids done...\n",
      "5000 patientunitstayids done...\n",
      "6000 patientunitstayids done...\n",
      "7000 patientunitstayids done...\n",
      "Current iteration: delta_Fio2: high ,delta_Peep: med\n",
      "1000 patientunitstayids done...\n",
      "2000 patientunitstayids done...\n",
      "3000 patientunitstayids done...\n",
      "4000 patientunitstayids done...\n",
      "5000 patientunitstayids done...\n",
      "6000 patientunitstayids done...\n",
      "7000 patientunitstayids done...\n",
      "Current iteration: delta_Fio2: high ,delta_Peep: high\n",
      "1000 patientunitstayids done...\n",
      "2000 patientunitstayids done...\n",
      "3000 patientunitstayids done...\n",
      "4000 patientunitstayids done...\n",
      "5000 patientunitstayids done...\n",
      "6000 patientunitstayids done...\n",
      "7000 patientunitstayids done...\n"
     ]
    }
   ],
   "source": [
    "# set the variable 'df_data_file' to the dataset that you are interested from the above list\n",
    "# df_data_file = 'data/MIMIC/1st_vent_ICU/day/MIMIC_day_MV_final.csv'  # CHANGE HERE\n",
    "df_data_file = 'clean MIMIC/day/MIMIC_day_MV_final.csv'\n",
    "df_data = pd.read_csv(drive_folder + df_data_file) # read the dataset to df_data\n",
    "\n",
    "# check for atleast 4 time periods for given id:\n",
    "periods_per_id = df_data.groupby('patientunitstayid')['time_hr'].count()>=4\n",
    "df_data = df_data[df_data.patientunitstayid.isin(periods_per_id[periods_per_id==True].index)].reset_index(drop=True)\n",
    "\n",
    "# forward filling peep and fio2 within each id \n",
    "df_data.min_peep = df_data.groupby('patientunitstayid')['min_peep'].ffill()\n",
    "df_data.min_fio2 = df_data.groupby('patientunitstayid')['min_fio2'].ffill()\n",
    "\n",
    "# define grid of FiO2 and Peep values to be tested\n",
    "delta_fio2  = ['low', 'med', 'high']    # CHANGE HERE. \n",
    "delta_peep  = ['low', 'med', 'high']    # CHANGE HERE. \n",
    "\n",
    "# define a dictionary to assign results and input parameters \n",
    "df_results = {'patientunitstayid': [], 'delta_fio2':[], 'delta_peep':[], 'unstable_start': [], 'unstable_end': [], 'VAC_outcome': [], 'IsStable':[]}\n",
    "\n",
    "for d_fio2 in delta_fio2:\n",
    "  for d_peep in delta_peep:\n",
    "    print('Current iteration: delta_Fio2:',d_fio2, ',delta_Peep:',d_peep)\n",
    "    i = 1 \n",
    "    for enct_i in df_data.patientunitstayid.unique():\n",
    "      df_i = df_data[df_data.patientunitstayid==enct_i].sort_values(by='time_hr').reset_index(drop=True)\n",
    "      if (i%1000==0):\n",
    "        print(i, 'patientunitstayids done...')\n",
    "      result_i = is_VAC(df_i, peep_change=d_peep, fio2_change=d_fio2, min_baseline_period = 2)\n",
    "      df_results['patientunitstayid'].append(result_i[0])\n",
    "      df_results['delta_fio2'].append(d_fio2)\n",
    "      df_results['delta_peep'].append(d_peep)\n",
    "      df_results['unstable_start'].append(result_i[1])\n",
    "      df_results['unstable_end'].append(result_i[2])\n",
    "      df_results['VAC_outcome'].append(result_i[3])\n",
    "      df_results['IsStable'].append(result_i[4])\n",
    "      i+=1\n",
    "df_results = pd.DataFrame(df_results)\n",
    "df_results['VAC'] = df_results.VAC_outcome.apply(lambda x: 1 if x == 'VAC' else 0) # cat code for VAC label "
   ]
  },
  {
   "cell_type": "code",
   "execution_count": 5,
   "metadata": {
    "colab": {
     "base_uri": "https://localhost:8080/",
     "height": 419
    },
    "executionInfo": {
     "elapsed": 838694,
     "status": "ok",
     "timestamp": 1598843215597,
     "user": {
      "displayName": "LASITH ADHIKARI",
      "photoUrl": "",
      "userId": "10681536570841516456"
     },
     "user_tz": 240
    },
    "id": "3uOR_lHLbfjq",
    "outputId": "716b530c-6e8d-4769-e02b-5b5f1f89b1c6"
   },
   "outputs": [
    {
     "data": {
      "text/html": [
       "<div>\n",
       "<style scoped>\n",
       "    .dataframe tbody tr th:only-of-type {\n",
       "        vertical-align: middle;\n",
       "    }\n",
       "\n",
       "    .dataframe tbody tr th {\n",
       "        vertical-align: top;\n",
       "    }\n",
       "\n",
       "    .dataframe thead th {\n",
       "        text-align: right;\n",
       "    }\n",
       "</style>\n",
       "<table border=\"1\" class=\"dataframe\">\n",
       "  <thead>\n",
       "    <tr style=\"text-align: right;\">\n",
       "      <th></th>\n",
       "      <th>patientunitstayid</th>\n",
       "      <th>delta_fio2</th>\n",
       "      <th>delta_peep</th>\n",
       "      <th>unstable_start</th>\n",
       "      <th>unstable_end</th>\n",
       "      <th>VAC_outcome</th>\n",
       "      <th>IsStable</th>\n",
       "      <th>VAC</th>\n",
       "    </tr>\n",
       "  </thead>\n",
       "  <tbody>\n",
       "    <tr>\n",
       "      <td>0</td>\n",
       "      <td>200003.0</td>\n",
       "      <td>low</td>\n",
       "      <td>low</td>\n",
       "      <td>96</td>\n",
       "      <td>120</td>\n",
       "      <td>No VAC</td>\n",
       "      <td>True</td>\n",
       "      <td>0</td>\n",
       "    </tr>\n",
       "    <tr>\n",
       "      <td>1</td>\n",
       "      <td>200017.0</td>\n",
       "      <td>low</td>\n",
       "      <td>low</td>\n",
       "      <td>96</td>\n",
       "      <td>120</td>\n",
       "      <td>No VAC</td>\n",
       "      <td>True</td>\n",
       "      <td>0</td>\n",
       "    </tr>\n",
       "    <tr>\n",
       "      <td>2</td>\n",
       "      <td>200033.0</td>\n",
       "      <td>low</td>\n",
       "      <td>low</td>\n",
       "      <td>240</td>\n",
       "      <td>264</td>\n",
       "      <td>No VAC</td>\n",
       "      <td>True</td>\n",
       "      <td>0</td>\n",
       "    </tr>\n",
       "    <tr>\n",
       "      <td>3</td>\n",
       "      <td>200046.0</td>\n",
       "      <td>low</td>\n",
       "      <td>low</td>\n",
       "      <td>48</td>\n",
       "      <td>72</td>\n",
       "      <td>No VAC</td>\n",
       "      <td>False</td>\n",
       "      <td>0</td>\n",
       "    </tr>\n",
       "    <tr>\n",
       "      <td>4</td>\n",
       "      <td>200059.0</td>\n",
       "      <td>low</td>\n",
       "      <td>low</td>\n",
       "      <td>168</td>\n",
       "      <td>192</td>\n",
       "      <td>No VAC</td>\n",
       "      <td>True</td>\n",
       "      <td>0</td>\n",
       "    </tr>\n",
       "    <tr>\n",
       "      <td>...</td>\n",
       "      <td>...</td>\n",
       "      <td>...</td>\n",
       "      <td>...</td>\n",
       "      <td>...</td>\n",
       "      <td>...</td>\n",
       "      <td>...</td>\n",
       "      <td>...</td>\n",
       "      <td>...</td>\n",
       "    </tr>\n",
       "    <tr>\n",
       "      <td>63202</td>\n",
       "      <td>299961.0</td>\n",
       "      <td>high</td>\n",
       "      <td>high</td>\n",
       "      <td>48</td>\n",
       "      <td>72</td>\n",
       "      <td>No VAC</td>\n",
       "      <td>False</td>\n",
       "      <td>0</td>\n",
       "    </tr>\n",
       "    <tr>\n",
       "      <td>63203</td>\n",
       "      <td>299963.0</td>\n",
       "      <td>high</td>\n",
       "      <td>high</td>\n",
       "      <td>96</td>\n",
       "      <td>120</td>\n",
       "      <td>No VAC</td>\n",
       "      <td>True</td>\n",
       "      <td>0</td>\n",
       "    </tr>\n",
       "    <tr>\n",
       "      <td>63204</td>\n",
       "      <td>299984.0</td>\n",
       "      <td>high</td>\n",
       "      <td>high</td>\n",
       "      <td>72</td>\n",
       "      <td>96</td>\n",
       "      <td>No VAC</td>\n",
       "      <td>True</td>\n",
       "      <td>0</td>\n",
       "    </tr>\n",
       "    <tr>\n",
       "      <td>63205</td>\n",
       "      <td>299988.0</td>\n",
       "      <td>high</td>\n",
       "      <td>high</td>\n",
       "      <td>144</td>\n",
       "      <td>168</td>\n",
       "      <td>No VAC</td>\n",
       "      <td>False</td>\n",
       "      <td>0</td>\n",
       "    </tr>\n",
       "    <tr>\n",
       "      <td>63206</td>\n",
       "      <td>299992.0</td>\n",
       "      <td>high</td>\n",
       "      <td>high</td>\n",
       "      <td>48</td>\n",
       "      <td>72</td>\n",
       "      <td>No VAC</td>\n",
       "      <td>False</td>\n",
       "      <td>0</td>\n",
       "    </tr>\n",
       "  </tbody>\n",
       "</table>\n",
       "<p>63207 rows × 8 columns</p>\n",
       "</div>"
      ],
      "text/plain": [
       "       patientunitstayid delta_fio2 delta_peep  unstable_start  unstable_end  \\\n",
       "0               200003.0        low        low              96           120   \n",
       "1               200017.0        low        low              96           120   \n",
       "2               200033.0        low        low             240           264   \n",
       "3               200046.0        low        low              48            72   \n",
       "4               200059.0        low        low             168           192   \n",
       "...                  ...        ...        ...             ...           ...   \n",
       "63202           299961.0       high       high              48            72   \n",
       "63203           299963.0       high       high              96           120   \n",
       "63204           299984.0       high       high              72            96   \n",
       "63205           299988.0       high       high             144           168   \n",
       "63206           299992.0       high       high              48            72   \n",
       "\n",
       "      VAC_outcome  IsStable  VAC  \n",
       "0          No VAC      True    0  \n",
       "1          No VAC      True    0  \n",
       "2          No VAC      True    0  \n",
       "3          No VAC     False    0  \n",
       "4          No VAC      True    0  \n",
       "...           ...       ...  ...  \n",
       "63202      No VAC     False    0  \n",
       "63203      No VAC      True    0  \n",
       "63204      No VAC      True    0  \n",
       "63205      No VAC     False    0  \n",
       "63206      No VAC     False    0  \n",
       "\n",
       "[63207 rows x 8 columns]"
      ]
     },
     "execution_count": 5,
     "metadata": {},
     "output_type": "execute_result"
    }
   ],
   "source": [
    "# Print results with VAC or No VAC label for each patient for different delta FiO2/Peep changes \n",
    "df_results"
   ]
  },
  {
   "cell_type": "code",
   "execution_count": 9,
   "metadata": {
    "colab": {
     "base_uri": "https://localhost:8080/",
     "height": 17
    },
    "executionInfo": {
     "elapsed": 909,
     "status": "ok",
     "timestamp": 1598833951342,
     "user": {
      "displayName": "LASITH ADHIKARI",
      "photoUrl": "",
      "userId": "10681536570841516456"
     },
     "user_tz": 240
    },
    "id": "mkGDV38dQNDY",
    "outputId": "4f2221aa-ca71-4f81-d956-6461b228b151"
   },
   "outputs": [],
   "source": [
    "#df_results.to_csv('MIMIC_1st_vent_ICU_VAC_CalDay_grouped_Aug30.csv',index=False)\n",
    "#files.download('MIMIC_1st_vent_ICU_VAC_CalDay_grouped_Aug30.csv')\n",
    "\n",
    "# load saved df_results data if needed:\n",
    "#df_result_file = 'Results/eICU/eICU_1st_vent_ICU_VAC_24hr_jun20.csv'  # CHANGE HERE\n",
    "#df_results = pd.read_csv(drive_folder + df_result_file) # read the dataset to df_data\n",
    "\n",
    "df_results.to_csv(\n",
    "    drive_folder + 'clean MIMIC/day/MIMIC_1st_vent_ICU_VAC_CalDay_grouped.' + \n",
    "    datetime.datetime.now().strftime('%Y%m%d') + '.csv',\n",
    "    index=False, header=True)"
   ]
  },
  {
   "cell_type": "markdown",
   "metadata": {
    "id": "mjbP4F21oCtJ"
   },
   "source": [
    "## NoVAC/VAC label vs. clinical outcome: Mortaility"
   ]
  },
  {
   "cell_type": "markdown",
   "metadata": {
    "id": "0OcVTsPopv5S"
   },
   "source": [
    "### Read mortality  outcome data"
   ]
  },
  {
   "cell_type": "code",
   "execution_count": 10,
   "metadata": {
    "id": "EiyrwxaYFPI4"
   },
   "outputs": [],
   "source": [
    "df_status = pd.read_csv(drive_folder + \"MIMIC/mimic_hospital_mortality.csv\") # read hospital mortality outcome for MIMIC\n",
    "df_status.rename(columns={'hospital_expire_flag':'Inhospital_mortality','icustay_id':'patientunitstayid' }, inplace=True)"
   ]
  },
  {
   "cell_type": "code",
   "execution_count": 11,
   "metadata": {
    "colab": {
     "base_uri": "https://localhost:8080/",
     "height": 204
    },
    "executionInfo": {
     "elapsed": 445,
     "status": "ok",
     "timestamp": 1598845606940,
     "user": {
      "displayName": "LASITH ADHIKARI",
      "photoUrl": "",
      "userId": "10681536570841516456"
     },
     "user_tz": 240
    },
    "id": "3vOLi_CDJvCc",
    "outputId": "fb09fae0-0ca7-416f-a865-d6496d67a5ec"
   },
   "outputs": [
    {
     "data": {
      "text/html": [
       "<div>\n",
       "<style scoped>\n",
       "    .dataframe tbody tr th:only-of-type {\n",
       "        vertical-align: middle;\n",
       "    }\n",
       "\n",
       "    .dataframe tbody tr th {\n",
       "        vertical-align: top;\n",
       "    }\n",
       "\n",
       "    .dataframe thead th {\n",
       "        text-align: right;\n",
       "    }\n",
       "</style>\n",
       "<table border=\"1\" class=\"dataframe\">\n",
       "  <thead>\n",
       "    <tr style=\"text-align: right;\">\n",
       "      <th></th>\n",
       "      <th>subject_id</th>\n",
       "      <th>hadm_id</th>\n",
       "      <th>patientunitstayid</th>\n",
       "      <th>Inhospital_mortality</th>\n",
       "    </tr>\n",
       "  </thead>\n",
       "  <tbody>\n",
       "    <tr>\n",
       "      <td>0</td>\n",
       "      <td>268</td>\n",
       "      <td>110404</td>\n",
       "      <td>280836</td>\n",
       "      <td>1</td>\n",
       "    </tr>\n",
       "    <tr>\n",
       "      <td>1</td>\n",
       "      <td>269</td>\n",
       "      <td>106296</td>\n",
       "      <td>206613</td>\n",
       "      <td>0</td>\n",
       "    </tr>\n",
       "    <tr>\n",
       "      <td>2</td>\n",
       "      <td>270</td>\n",
       "      <td>188028</td>\n",
       "      <td>220345</td>\n",
       "      <td>0</td>\n",
       "    </tr>\n",
       "    <tr>\n",
       "      <td>3</td>\n",
       "      <td>271</td>\n",
       "      <td>173727</td>\n",
       "      <td>249196</td>\n",
       "      <td>0</td>\n",
       "    </tr>\n",
       "    <tr>\n",
       "      <td>4</td>\n",
       "      <td>272</td>\n",
       "      <td>164716</td>\n",
       "      <td>210407</td>\n",
       "      <td>0</td>\n",
       "    </tr>\n",
       "  </tbody>\n",
       "</table>\n",
       "</div>"
      ],
      "text/plain": [
       "   subject_id  hadm_id  patientunitstayid  Inhospital_mortality\n",
       "0         268   110404             280836                     1\n",
       "1         269   106296             206613                     0\n",
       "2         270   188028             220345                     0\n",
       "3         271   173727             249196                     0\n",
       "4         272   164716             210407                     0"
      ]
     },
     "execution_count": 11,
     "metadata": {},
     "output_type": "execute_result"
    }
   ],
   "source": [
    "df_status.head()"
   ]
  },
  {
   "cell_type": "code",
   "execution_count": 12,
   "metadata": {
    "colab": {
     "base_uri": "https://localhost:8080/",
     "height": 68
    },
    "executionInfo": {
     "elapsed": 743,
     "status": "ok",
     "timestamp": 1598845610404,
     "user": {
      "displayName": "LASITH ADHIKARI",
      "photoUrl": "",
      "userId": "10681536570841516456"
     },
     "user_tz": 240
    },
    "id": "U4SpWxRpo__g",
    "outputId": "d720f674-1b2e-4848-95eb-123153361c81"
   },
   "outputs": [
    {
     "data": {
      "text/plain": [
       "0    54923\n",
       "1     6609\n",
       "Name: Inhospital_mortality, dtype: int64"
      ]
     },
     "execution_count": 12,
     "metadata": {},
     "output_type": "execute_result"
    }
   ],
   "source": [
    "# ditribution of data\n",
    "df_status.Inhospital_mortality.value_counts()"
   ]
  },
  {
   "cell_type": "code",
   "execution_count": 13,
   "metadata": {
    "id": "sij2wvQeF6JJ"
   },
   "outputs": [],
   "source": [
    "# Merge outcome:\n",
    "df_vac_mortality = pd.merge(df_results, df_status, how='left', on='patientunitstayid' )\n",
    "\n",
    "# drop rows without mortality outcome:\n",
    "df_vac_mortality = df_vac_mortality[~df_vac_mortality.Inhospital_mortality.isnull()]\n",
    "\n",
    "# convert Inhospital_mortality to int\n",
    "df_vac_mortality.Inhospital_mortality = df_vac_mortality.Inhospital_mortality.astype('int8')"
   ]
  },
  {
   "cell_type": "code",
   "execution_count": 14,
   "metadata": {
    "id": "bXy65ONcIt7z"
   },
   "outputs": [],
   "source": [
    "df_vac_mortality['hospitaldischargestatus'] =  df_vac_mortality['Inhospital_mortality'].apply(lambda x: 'Expired' if x == 1 else 'Alive')"
   ]
  },
  {
   "cell_type": "code",
   "execution_count": 15,
   "metadata": {
    "colab": {
     "base_uri": "https://localhost:8080/",
     "height": 204
    },
    "executionInfo": {
     "elapsed": 984,
     "status": "ok",
     "timestamp": 1598845628088,
     "user": {
      "displayName": "LASITH ADHIKARI",
      "photoUrl": "",
      "userId": "10681536570841516456"
     },
     "user_tz": 240
    },
    "id": "gX7MTUQApe4K",
    "outputId": "1ef6c1c4-1f06-43c5-d8ba-9141fc2d860a"
   },
   "outputs": [
    {
     "data": {
      "text/html": [
       "<div>\n",
       "<style scoped>\n",
       "    .dataframe tbody tr th:only-of-type {\n",
       "        vertical-align: middle;\n",
       "    }\n",
       "\n",
       "    .dataframe tbody tr th {\n",
       "        vertical-align: top;\n",
       "    }\n",
       "\n",
       "    .dataframe thead th {\n",
       "        text-align: right;\n",
       "    }\n",
       "</style>\n",
       "<table border=\"1\" class=\"dataframe\">\n",
       "  <thead>\n",
       "    <tr style=\"text-align: right;\">\n",
       "      <th></th>\n",
       "      <th>patientunitstayid</th>\n",
       "      <th>delta_fio2</th>\n",
       "      <th>delta_peep</th>\n",
       "      <th>unstable_start</th>\n",
       "      <th>unstable_end</th>\n",
       "      <th>VAC_outcome</th>\n",
       "      <th>IsStable</th>\n",
       "      <th>VAC</th>\n",
       "      <th>subject_id</th>\n",
       "      <th>hadm_id</th>\n",
       "      <th>Inhospital_mortality</th>\n",
       "      <th>hospitaldischargestatus</th>\n",
       "    </tr>\n",
       "  </thead>\n",
       "  <tbody>\n",
       "    <tr>\n",
       "      <td>0</td>\n",
       "      <td>200003.0</td>\n",
       "      <td>low</td>\n",
       "      <td>low</td>\n",
       "      <td>96</td>\n",
       "      <td>120</td>\n",
       "      <td>No VAC</td>\n",
       "      <td>True</td>\n",
       "      <td>0</td>\n",
       "      <td>27513</td>\n",
       "      <td>163557</td>\n",
       "      <td>0</td>\n",
       "      <td>Alive</td>\n",
       "    </tr>\n",
       "    <tr>\n",
       "      <td>1</td>\n",
       "      <td>200017.0</td>\n",
       "      <td>low</td>\n",
       "      <td>low</td>\n",
       "      <td>96</td>\n",
       "      <td>120</td>\n",
       "      <td>No VAC</td>\n",
       "      <td>True</td>\n",
       "      <td>0</td>\n",
       "      <td>15909</td>\n",
       "      <td>135069</td>\n",
       "      <td>0</td>\n",
       "      <td>Alive</td>\n",
       "    </tr>\n",
       "    <tr>\n",
       "      <td>2</td>\n",
       "      <td>200033.0</td>\n",
       "      <td>low</td>\n",
       "      <td>low</td>\n",
       "      <td>240</td>\n",
       "      <td>264</td>\n",
       "      <td>No VAC</td>\n",
       "      <td>True</td>\n",
       "      <td>0</td>\n",
       "      <td>56369</td>\n",
       "      <td>198650</td>\n",
       "      <td>1</td>\n",
       "      <td>Expired</td>\n",
       "    </tr>\n",
       "    <tr>\n",
       "      <td>3</td>\n",
       "      <td>200046.0</td>\n",
       "      <td>low</td>\n",
       "      <td>low</td>\n",
       "      <td>48</td>\n",
       "      <td>72</td>\n",
       "      <td>No VAC</td>\n",
       "      <td>False</td>\n",
       "      <td>0</td>\n",
       "      <td>6476</td>\n",
       "      <td>112040</td>\n",
       "      <td>0</td>\n",
       "      <td>Alive</td>\n",
       "    </tr>\n",
       "    <tr>\n",
       "      <td>4</td>\n",
       "      <td>200059.0</td>\n",
       "      <td>low</td>\n",
       "      <td>low</td>\n",
       "      <td>168</td>\n",
       "      <td>192</td>\n",
       "      <td>No VAC</td>\n",
       "      <td>True</td>\n",
       "      <td>0</td>\n",
       "      <td>28494</td>\n",
       "      <td>199133</td>\n",
       "      <td>0</td>\n",
       "      <td>Alive</td>\n",
       "    </tr>\n",
       "  </tbody>\n",
       "</table>\n",
       "</div>"
      ],
      "text/plain": [
       "   patientunitstayid delta_fio2 delta_peep  unstable_start  unstable_end  \\\n",
       "0           200003.0        low        low              96           120   \n",
       "1           200017.0        low        low              96           120   \n",
       "2           200033.0        low        low             240           264   \n",
       "3           200046.0        low        low              48            72   \n",
       "4           200059.0        low        low             168           192   \n",
       "\n",
       "  VAC_outcome  IsStable  VAC  subject_id  hadm_id  Inhospital_mortality  \\\n",
       "0      No VAC      True    0       27513   163557                     0   \n",
       "1      No VAC      True    0       15909   135069                     0   \n",
       "2      No VAC      True    0       56369   198650                     1   \n",
       "3      No VAC     False    0        6476   112040                     0   \n",
       "4      No VAC      True    0       28494   199133                     0   \n",
       "\n",
       "  hospitaldischargestatus  \n",
       "0                   Alive  \n",
       "1                   Alive  \n",
       "2                 Expired  \n",
       "3                   Alive  \n",
       "4                   Alive  "
      ]
     },
     "execution_count": 15,
     "metadata": {},
     "output_type": "execute_result"
    }
   ],
   "source": [
    "df_vac_mortality.head()"
   ]
  },
  {
   "cell_type": "code",
   "execution_count": null,
   "metadata": {
    "id": "2Kf_YkPFUbSS"
   },
   "outputs": [],
   "source": []
  },
  {
   "cell_type": "code",
   "execution_count": 16,
   "metadata": {
    "colab": {
     "base_uri": "https://localhost:8080/",
     "height": 17
    },
    "executionInfo": {
     "elapsed": 738,
     "status": "ok",
     "timestamp": 1598845720629,
     "user": {
      "displayName": "LASITH ADHIKARI",
      "photoUrl": "",
      "userId": "10681536570841516456"
     },
     "user_tz": 240
    },
    "id": "kDQnYdgYmB4j",
    "outputId": "da569a81-aa7c-4d6d-bff7-0de3866d4f18"
   },
   "outputs": [],
   "source": [
    "#df_vac_outcome.to_csv('eICU_1st_vent_ICU_VAC_24hr_outcomes.csv',index=False)\n",
    "# df_vac_mortality.to_csv('MIMIC_1st_vent_ICU_VAC_CalDay_outcomes_grouped_Aug30.csv',index=False)  # \n",
    "# files.download('MIMIC_1st_vent_ICU_VAC_CalDay_outcomes_grouped_Aug30.csv')\n",
    "\n",
    "df_vac_mortality.to_csv(\n",
    "    drive_folder + 'clean MIMIC/day/MIMIC_1st_vent_ICU_VAC_CalDay_outcomes_grouped.' + \n",
    "    datetime.datetime.now().strftime('%Y%m%d') + '.csv',index=False, header=True)"
   ]
  },
  {
   "cell_type": "markdown",
   "metadata": {
    "id": "AHiwROPSuXaj"
   },
   "source": [
    "## Analytics for each parameter setting"
   ]
  },
  {
   "cell_type": "code",
   "execution_count": 17,
   "metadata": {
    "id": "JH4agxqQOh-5"
   },
   "outputs": [],
   "source": [
    "df_vac_outcome = df_vac_mortality.copy()"
   ]
  },
  {
   "cell_type": "markdown",
   "metadata": {
    "id": "919q29XOAijq"
   },
   "source": [
    "# Outcome:Mortality"
   ]
  },
  {
   "cell_type": "code",
   "execution_count": 18,
   "metadata": {
    "colab": {
     "base_uri": "https://localhost:8080/",
     "height": 1000
    },
    "executionInfo": {
     "elapsed": 4366,
     "status": "ok",
     "timestamp": 1598845816665,
     "user": {
      "displayName": "LASITH ADHIKARI",
      "photoUrl": "",
      "userId": "10681536570841516456"
     },
     "user_tz": 240
    },
    "id": "QBngxDlDuehn",
    "outputId": "2b112c92-6b72-476c-ed92-de06a28d2f09"
   },
   "outputs": [
    {
     "name": "stdout",
     "output_type": "stream",
     "text": [
      "Current parameter setting: delta_Fio2: low , delta_Peep: low\n",
      "VAC distribution(%):\n",
      "+--------+---------------+\n",
      "|        |   VAC_outcome |\n",
      "|--------+---------------|\n",
      "| No VAC |         80.09 |\n",
      "| VAC    |         19.91 |\n",
      "+--------+---------------+\n",
      "Mortality distribution(%):\n",
      "+---------+---------------------------+\n",
      "|         |   hospitaldischargestatus |\n",
      "|---------+---------------------------|\n",
      "| Alive   |                     73.47 |\n",
      "| Expired |                     26.53 |\n",
      "+---------+---------------------------+\n",
      "Confusion matrix:\n",
      "+---------------+---------+-----------+\n",
      "| VAC_outcome   |   Alive |   Expired |\n",
      "|---------------+---------+-----------|\n",
      "| No VAC        |    4213 |      1412 |\n",
      "| VAC           |     947 |       451 |\n",
      "+---------------+---------+-----------+\n",
      "Odds ratio:  1.421 , p-value: 1.0242460132779341e-07\n",
      "##########################-------------------------###############################\n",
      "Current parameter setting: delta_Fio2: low , delta_Peep: med\n",
      "VAC distribution(%):\n",
      "+--------+---------------+\n",
      "|        |   VAC_outcome |\n",
      "|--------+---------------|\n",
      "| No VAC |         85.35 |\n",
      "| VAC    |         14.65 |\n",
      "+--------+---------------+\n",
      "Mortality distribution(%):\n",
      "+---------+---------------------------+\n",
      "|         |   hospitaldischargestatus |\n",
      "|---------+---------------------------|\n",
      "| Alive   |                     73.47 |\n",
      "| Expired |                     26.53 |\n",
      "+---------+---------------------------+\n",
      "Confusion matrix:\n",
      "+---------------+---------+-----------+\n",
      "| VAC_outcome   |   Alive |   Expired |\n",
      "|---------------+---------+-----------|\n",
      "| No VAC        |    4484 |      1510 |\n",
      "| VAC           |     676 |       353 |\n",
      "+---------------+---------+-----------+\n",
      "Odds ratio:  1.551 , p-value: 2.260776123994601e-09\n",
      "##########################-------------------------###############################\n",
      "Current parameter setting: delta_Fio2: low , delta_Peep: high\n",
      "VAC distribution(%):\n",
      "+--------+---------------+\n",
      "|        |   VAC_outcome |\n",
      "|--------+---------------|\n",
      "| No VAC |         88.04 |\n",
      "| VAC    |         11.96 |\n",
      "+--------+---------------+\n",
      "Mortality distribution(%):\n",
      "+---------+---------------------------+\n",
      "|         |   hospitaldischargestatus |\n",
      "|---------+---------------------------|\n",
      "| Alive   |                     73.47 |\n",
      "| Expired |                     26.53 |\n",
      "+---------+---------------------------+\n",
      "Confusion matrix:\n",
      "+---------------+---------+-----------+\n",
      "| VAC_outcome   |   Alive |   Expired |\n",
      "|---------------+---------+-----------|\n",
      "| No VAC        |    4611 |      1572 |\n",
      "| VAC           |     549 |       291 |\n",
      "+---------------+---------+-----------+\n",
      "Odds ratio:  1.555 , p-value: 2.8251991178829435e-08\n",
      "##########################-------------------------###############################\n",
      "Current parameter setting: delta_Fio2: med , delta_Peep: low\n",
      "VAC distribution(%):\n",
      "+--------+---------------+\n",
      "|        |   VAC_outcome |\n",
      "|--------+---------------|\n",
      "| No VAC |         89.53 |\n",
      "| VAC    |         10.47 |\n",
      "+--------+---------------+\n",
      "Mortality distribution(%):\n",
      "+---------+---------------------------+\n",
      "|         |   hospitaldischargestatus |\n",
      "|---------+---------------------------|\n",
      "| Alive   |                     73.47 |\n",
      "| Expired |                     26.53 |\n",
      "+---------+---------------------------+\n",
      "Confusion matrix:\n",
      "+---------------+---------+-----------+\n",
      "| VAC_outcome   |   Alive |   Expired |\n",
      "|---------------+---------+-----------|\n",
      "| No VAC        |    4671 |      1617 |\n",
      "| VAC           |     489 |       246 |\n",
      "+---------------+---------+-----------+\n",
      "Odds ratio:  1.453 , p-value: 1.1824506783459806e-05\n",
      "##########################-------------------------###############################\n",
      "Current parameter setting: delta_Fio2: med , delta_Peep: med\n",
      "VAC distribution(%):\n",
      "+--------+---------------+\n",
      "|        |   VAC_outcome |\n",
      "|--------+---------------|\n",
      "| No VAC |         95.27 |\n",
      "| VAC    |          4.73 |\n",
      "+--------+---------------+\n",
      "Mortality distribution(%):\n",
      "+---------+---------------------------+\n",
      "|         |   hospitaldischargestatus |\n",
      "|---------+---------------------------|\n",
      "| Alive   |                     73.47 |\n",
      "| Expired |                     26.53 |\n",
      "+---------+---------------------------+\n",
      "Confusion matrix:\n",
      "+---------------+---------+-----------+\n",
      "| VAC_outcome   |   Alive |   Expired |\n",
      "|---------------+---------+-----------|\n",
      "| No VAC        |    4963 |      1728 |\n",
      "| VAC           |     197 |       135 |\n",
      "+---------------+---------+-----------+\n",
      "Odds ratio:  1.968 , p-value: 1.0681791112685226e-08\n",
      "##########################-------------------------###############################\n",
      "Current parameter setting: delta_Fio2: med , delta_Peep: high\n",
      "VAC distribution(%):\n",
      "+--------+---------------+\n",
      "|        |   VAC_outcome |\n",
      "|--------+---------------|\n",
      "| No VAC |         98.52 |\n",
      "| VAC    |          1.48 |\n",
      "+--------+---------------+\n",
      "Mortality distribution(%):\n",
      "+---------+---------------------------+\n",
      "|         |   hospitaldischargestatus |\n",
      "|---------+---------------------------|\n",
      "| Alive   |                     73.47 |\n",
      "| Expired |                     26.53 |\n",
      "+---------+---------------------------+\n",
      "Confusion matrix:\n",
      "+---------------+---------+-----------+\n",
      "| VAC_outcome   |   Alive |   Expired |\n",
      "|---------------+---------+-----------|\n",
      "| No VAC        |    5110 |      1809 |\n",
      "| VAC           |      50 |        54 |\n",
      "+---------------+---------+-----------+\n",
      "Odds ratio:  3.051 , p-value: 3.2140733596063286e-08\n",
      "##########################-------------------------###############################\n",
      "Current parameter setting: delta_Fio2: high , delta_Peep: low\n",
      "VAC distribution(%):\n",
      "+--------+---------------+\n",
      "|        |   VAC_outcome |\n",
      "|--------+---------------|\n",
      "| No VAC |         89.75 |\n",
      "| VAC    |         10.25 |\n",
      "+--------+---------------+\n",
      "Mortality distribution(%):\n",
      "+---------+---------------------------+\n",
      "|         |   hospitaldischargestatus |\n",
      "|---------+---------------------------|\n",
      "| Alive   |                     73.47 |\n",
      "| Expired |                     26.53 |\n",
      "+---------+---------------------------+\n",
      "Confusion matrix:\n",
      "+---------------+---------+-----------+\n",
      "| VAC_outcome   |   Alive |   Expired |\n",
      "|---------------+---------+-----------|\n",
      "| No VAC        |    4678 |      1625 |\n",
      "| VAC           |     482 |       238 |\n",
      "+---------------+---------+-----------+\n",
      "Odds ratio:  1.421 , p-value: 4.0389645051618696e-05\n",
      "##########################-------------------------###############################\n",
      "Current parameter setting: delta_Fio2: high , delta_Peep: med\n",
      "VAC distribution(%):\n",
      "+--------+---------------+\n",
      "|        |   VAC_outcome |\n",
      "|--------+---------------|\n",
      "| No VAC |         95.53 |\n",
      "| VAC    |          4.47 |\n",
      "+--------+---------------+\n",
      "Mortality distribution(%):\n",
      "+---------+---------------------------+\n",
      "|         |   hospitaldischargestatus |\n",
      "|---------+---------------------------|\n",
      "| Alive   |                     73.47 |\n",
      "| Expired |                     26.53 |\n",
      "+---------+---------------------------+\n",
      "Confusion matrix:\n",
      "+---------------+---------+-----------+\n",
      "| VAC_outcome   |   Alive |   Expired |\n",
      "|---------------+---------+-----------|\n",
      "| No VAC        |    4969 |      1740 |\n",
      "| VAC           |     191 |       123 |\n",
      "+---------------+---------+-----------+\n",
      "Odds ratio:  1.839 , p-value: 5.687101242507324e-07\n",
      "##########################-------------------------###############################\n",
      "Current parameter setting: delta_Fio2: high , delta_Peep: high\n",
      "VAC distribution(%):\n",
      "+--------+---------------+\n",
      "|        |   VAC_outcome |\n",
      "|--------+---------------|\n",
      "| No VAC |         98.73 |\n",
      "| VAC    |          1.27 |\n",
      "+--------+---------------+\n",
      "Mortality distribution(%):\n",
      "+---------+---------------------------+\n",
      "|         |   hospitaldischargestatus |\n",
      "|---------+---------------------------|\n",
      "| Alive   |                     73.47 |\n",
      "| Expired |                     26.53 |\n",
      "+---------+---------------------------+\n",
      "Confusion matrix:\n",
      "+---------------+---------+-----------+\n",
      "| VAC_outcome   |   Alive |   Expired |\n",
      "|---------------+---------+-----------|\n",
      "| No VAC        |    5116 |      1818 |\n",
      "| VAC           |      44 |        45 |\n",
      "+---------------+---------+-----------+\n",
      "Odds ratio:  2.878 , p-value: 1.3174809446586103e-06\n",
      "##########################-------------------------###############################\n",
      "####################################    SUMMARY   ####################################\n",
      "+------------+-------------+-------------+--------------+\n",
      "|            |   dFio2:low |   dFio2:med |   dFio2:high |\n",
      "|------------+-------------+-------------+--------------|\n",
      "| dPeep:low  |       1.421 |       1.453 |        1.421 |\n",
      "| dPeep:med  |       1.551 |       1.968 |        1.839 |\n",
      "| dPeep:high |       1.555 |       3.051 |        2.878 |\n",
      "+------------+-------------+-------------+--------------+\n"
     ]
    }
   ],
   "source": [
    "OR_results = {}\n",
    "outcome_ = 'hospitaldischargestatus'\n",
    "\n",
    "# define grid of FiO2 and Peep values to be tested\n",
    "delta_fio2  = ['low', 'med', 'high']  # CHANGE HERE\n",
    "delta_peep  = ['low', 'med', 'high']  # CHANGE HERE\n",
    "\n",
    "for d_fio2 in delta_fio2:\n",
    "  OR_results['dFio2:'+str(d_fio2)] = []\n",
    "  for d_peep in delta_peep:\n",
    "    print('Current parameter setting: delta_Fio2:',d_fio2, ', delta_Peep:',d_peep)\n",
    "\n",
    "    df_analytics = df_vac_outcome[(df_vac_outcome.delta_fio2==d_fio2) & (df_vac_outcome.delta_peep==d_peep)]\n",
    "\n",
    "    # VAC distribution:\n",
    "    print('VAC distribution(%):')\n",
    "    vac_distn = np.round(df_analytics.VAC_outcome.value_counts()/df_analytics.VAC_outcome.value_counts().sum()*100,2)\n",
    "    #print(vac_distn.to_frame())\n",
    "    print(tabulate(vac_distn.to_frame(), headers='keys', tablefmt='psql'))\n",
    "\n",
    "    # Outcome distribution:\n",
    "    print('Mortality distribution(%):')\n",
    "    outcom_distn = np.round(df_analytics[outcome_].value_counts()/df_analytics[outcome_].value_counts().sum()*100,2)\n",
    "    #print(outcom_distn.to_frame())\n",
    "    print(tabulate(outcom_distn.to_frame(), headers='keys', tablefmt='psql'))\n",
    "\n",
    "    # crosstab:\n",
    "    print('Confusion matrix:')\n",
    "    tbl = np.round(pd.crosstab(df_analytics.VAC_outcome, df_analytics[outcome_], dropna=False), 2)\n",
    "    print(tabulate(tbl, headers='keys', tablefmt='psql'))\n",
    "\n",
    "    # crosstab - percentage\n",
    "    #print('Confusion matrix (%):')\n",
    "    #tbl_perc = np.round(pd.crosstab(df_analytics.VAC_outcome, df_analytics.hospitaldischargestatus, dropna=False)/df_analytics.patientunitstayid.nunique()*100, 2)  \n",
    "    #print(tabulate(tbl_perc, headers='keys', tablefmt='psql'))\n",
    "\n",
    "    # compute odd-ratio:\n",
    "    oddsratio, pvalue = stats.fisher_exact(np.array(tbl))\n",
    "    print(\"Odds ratio: \", round(oddsratio,3), \", p-value:\", pvalue) \n",
    "\n",
    "    OR_results['dFio2:'+str(d_fio2)].append(round(oddsratio,3))\n",
    "\n",
    "    print('##########################-------------------------###############################')\n",
    "\n",
    "# for visualization, generate table with OR for all different param.\n",
    "index_list = []\n",
    "for d_peep in delta_peep:\n",
    "    index_list.append('dPeep:'+str(d_peep))\n",
    "OR_results_df = pd.DataFrame(OR_results, index=index_list) \n",
    "\n",
    "print('####################################    SUMMARY   ####################################')\n",
    "print(tabulate(OR_results_df, headers='keys', tablefmt='psql'))\n"
   ]
  },
  {
   "cell_type": "code",
   "execution_count": null,
   "metadata": {
    "id": "cBfNOMVQEV2N"
   },
   "outputs": [],
   "source": []
  },
  {
   "cell_type": "markdown",
   "metadata": {
    "id": "t5u2X44cPkRs"
   },
   "source": [
    "#### Odd ratio visualization"
   ]
  },
  {
   "cell_type": "code",
   "execution_count": 19,
   "metadata": {
    "colab": {
     "base_uri": "https://localhost:8080/",
     "height": 523
    },
    "executionInfo": {
     "elapsed": 1234,
     "status": "ok",
     "timestamp": 1598845852875,
     "user": {
      "displayName": "LASITH ADHIKARI",
      "photoUrl": "",
      "userId": "10681536570841516456"
     },
     "user_tz": 240
    },
    "id": "-TXMvwTSEXIo",
    "outputId": "a1710f2e-430c-46a4-91de-4dbbcdd815be"
   },
   "outputs": [
    {
     "data": {
      "image/png": "[encoded data removed]",
      "text/plain": [
       "<Figure size 900x600 with 2 Axes>"
      ]
     },
     "metadata": {},
     "output_type": "display_data"
    }
   ],
   "source": [
    "# \n",
    "sns.set(font_scale=1.5)  # crazy big\n",
    "f, ax = plt.subplots(figsize=(9, 6), dpi=100)\n",
    "ax = sns.heatmap(OR_results_df, annot=True, cmap=sns.color_palette(\"OrRd\", 50), fmt='.2f')\n",
    "ax.xaxis.set_tick_params(labelsize=15)\n",
    "ax.yaxis.set_tick_params(labelsize=15)"
   ]
  }
 ],
 "metadata": {
  "colab": {
   "authorship_tag": "ABX9TyMhXTjawf92mW6IrxG4N7ql",
   "collapsed_sections": [],
   "name": "MIMIC_1st_vent_ICU_VAC_vs_outcomes_CalDay_GROUPED.ipynb",
   "provenance": []
  },
  "kernelspec": {
   "display_name": "Python 3",
   "language": "python",
   "name": "python3"
  },
  "language_info": {
   "codemirror_mode": {
    "name": "ipython",
    "version": 3
   },
   "file_extension": ".py",
   "mimetype": "text/x-python",
   "name": "python",
   "nbconvert_exporter": "python",
   "pygments_lexer": "ipython3",
   "version": "3.6.3"
  }
 },
 "nbformat": 4,
 "nbformat_minor": 1
}
