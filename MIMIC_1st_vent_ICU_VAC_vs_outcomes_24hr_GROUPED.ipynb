{
 "cells": [
  {
   "cell_type": "code",
   "execution_count": 1,
   "metadata": {
    "colab": {},
    "colab_type": "code",
    "executionInfo": {
     "elapsed": 463,
     "status": "ok",
     "timestamp": 1598832797099,
     "user": {
      "displayName": "LASITH ADHIKARI",
      "photoUrl": "",
      "userId": "10681536570841516456"
     },
     "user_tz": 240
    },
    "id": "f5Kq9e31M5D7"
   },
   "outputs": [],
   "source": [
    "###### @authors: Lasith Adhikari and Anusha Madushani  #####\n",
    "############ Created on Mar 22, 2020 (Python 3)############\n",
    "# Updated on Aug 30, 2020\n",
    "# Code description: \n",
    "# Detect and label for VAC events for mechanically ventialted patients - grouped version for Fio2 and Peep"
   ]
  },
  {
   "cell_type": "code",
   "execution_count": 16,
   "metadata": {
    "colab": {
     "base_uri": "https://localhost:8080/",
     "height": 51
    },
    "colab_type": "code",
    "executionInfo": {
     "elapsed": 2022,
     "status": "ok",
     "timestamp": 1598832801623,
     "user": {
      "displayName": "LASITH ADHIKARI",
      "photoUrl": "",
      "userId": "10681536570841516456"
     },
     "user_tz": 240
    },
    "id": "1u_kny0meR6S",
    "outputId": "13637f0c-28e3-4984-e73a-84baafc05d8e"
   },
   "outputs": [],
   "source": [
    "## Imports all the packages. \n",
    "import numpy as np\n",
    "import pandas as pd\n",
    "import os\n",
    "import pdb\n",
    "\n",
    "import random\n",
    "from IPython.core.display import display, HTML\n",
    "import scipy.stats as stats\n",
    "from tabulate import tabulate\n",
    "import seaborn as sns\n",
    "import matplotlib.pyplot as plt\n",
    "\n",
    "# from google.colab import auth\n",
    "# from google.cloud import bigquery\n",
    "# from google.colab import files\n",
    "import os\n",
    "import datetime"
   ]
  },
  {
   "cell_type": "code",
   "execution_count": 3,
   "metadata": {
    "colab": {},
    "colab_type": "code",
    "executionInfo": {
     "elapsed": 15810,
     "status": "ok",
     "timestamp": 1598832819343,
     "user": {
      "displayName": "LASITH ADHIKARI",
      "photoUrl": "",
      "userId": "10681536570841516456"
     },
     "user_tz": 240
    },
    "id": "xarjM7jhNTk6"
   },
   "outputs": [],
   "source": [
    "auth.authenticate_user() # authenticating "
   ]
  },
  {
   "cell_type": "code",
   "execution_count": 4,
   "metadata": {
    "colab": {
     "base_uri": "https://localhost:8080/",
     "height": 122
    },
    "colab_type": "code",
    "executionInfo": {
     "elapsed": 18079,
     "status": "ok",
     "timestamp": 1598832842228,
     "user": {
      "displayName": "LASITH ADHIKARI",
      "photoUrl": "",
      "userId": "10681536570841516456"
     },
     "user_tz": 240
    },
    "id": "LckaoAK3NWTP",
    "outputId": "eeb72e29-48c4-4e32-d12a-530a54e63f20"
   },
   "outputs": [
    {
     "name": "stdout",
     "output_type": "stream",
     "text": [
      "Go to this URL in a browser: https://accounts.google.com/o/oauth2/auth?client_id=947318989803-6bn6qk8qdgf4n4g3pfee6491hc0brc4i.apps.googleusercontent.com&redirect_uri=urn%3aietf%3awg%3aoauth%3a2.0%3aoob&scope=email%20https%3a%2f%2fwww.googleapis.com%2fauth%2fdocs.test%20https%3a%2f%2fwww.googleapis.com%2fauth%2fdrive%20https%3a%2f%2fwww.googleapis.com%2fauth%2fdrive.photos.readonly%20https%3a%2f%2fwww.googleapis.com%2fauth%2fpeopleapi.readonly&response_type=code\n",
      "\n",
      "Enter your authorization code:\n",
      "··········\n",
      "Mounted at /content/drive\n"
     ]
    }
   ],
   "source": [
    "# from Google Drive\n",
    "from google.colab import drive\n",
    "drive.mount('/content/drive')"
   ]
  },
  {
   "cell_type": "code",
   "execution_count": 2,
   "metadata": {
    "colab": {},
    "colab_type": "code",
    "executionInfo": {
     "elapsed": 372,
     "status": "ok",
     "timestamp": 1598832846301,
     "user": {
      "displayName": "LASITH ADHIKARI",
      "photoUrl": "",
      "userId": "10681536570841516456"
     },
     "user_tz": 240
    },
    "id": "Hpy48NZKO8LE"
   },
   "outputs": [],
   "source": [
    "# path to base folder (right click on the directory: SCCM 2020 Datathon, and select 'Add to my Drive' in order to appear on My Drive)\n",
    "# drive_folder = '/content/drive/My Drive/SCCM 2020 Datathon/' \n",
    "\n",
    "drive_folder = '/labs/kamaleswaranlab/resp_failure/data/VAC data/'"
   ]
  },
  {
   "cell_type": "code",
   "execution_count": 6,
   "metadata": {
    "colab": {},
    "colab_type": "code",
    "executionInfo": {
     "elapsed": 469,
     "status": "ok",
     "timestamp": 1598832850847,
     "user": {
      "displayName": "LASITH ADHIKARI",
      "photoUrl": "",
      "userId": "10681536570841516456"
     },
     "user_tz": 240
    },
    "id": "1tYAytV-I7pM"
   },
   "outputs": [],
   "source": [
    "# Note that this should be the project for the datathon work\n",
    "project_id = 'sccm-datathon'\n",
    "os.environ['GOOGLE_CLOUD_PROJECT'] = project_id\n",
    "\n",
    "# Read data from BigQuery into pandas dataframes.\n",
    "def run_query(query):\n",
    "  return pd.io.gbq.read_gbq(\n",
    "      query,\n",
    "      project_id=project_id,\n",
    "      dialect='standard')"
   ]
  },
  {
   "cell_type": "code",
   "execution_count": 4,
   "metadata": {
    "colab": {},
    "colab_type": "code",
    "executionInfo": {
     "elapsed": 368,
     "status": "ok",
     "timestamp": 1598832853887,
     "user": {
      "displayName": "LASITH ADHIKARI",
      "photoUrl": "",
      "userId": "10681536570841516456"
     },
     "user_tz": 240
    },
    "id": "tUQw1_Avf0uO"
   },
   "outputs": [],
   "source": [
    "# function to label VAC or NO VAC for a given patient data - grouped version \n",
    "def is_VAC(df_, peep_change='low', fio2_change='low', min_baseline_period=2):\n",
    "\n",
    "  # define groups:\n",
    "  peep_gps = {'low':[0.99,3], 'med':[3,6], 'high':[6,100]} # Low=[1:3], Med=(3:6], High>6\n",
    "  fio2_gps = {'low':[9.99,20], 'med':[20,50], 'high':[50,100]} # low=[10:20], med=(20:50], high>50\n",
    "\n",
    "  # replace all 0 to 5  peep by 5:\n",
    "  df = df_.copy()\n",
    "  df.loc[(df['min_peep']>=0) & (df['min_peep']<=5), 'min_peep'] = 5\n",
    "\n",
    "  for index, row in df.iterrows():\n",
    "\n",
    "    peep_missing = False\n",
    "    fio2_missing = False\n",
    "    stable = np.nan\n",
    "\n",
    "    if index >= min_baseline_period:\n",
    "\n",
    "      #### check for stability end ####\n",
    "\n",
    "      if ~df.loc[index-min_baseline_period: index-1,'min_peep'].isnull().any(): \n",
    "        # PEEP:\n",
    "        if np.sum(df.loc[index-min_baseline_period: index-1,'min_peep'].diff()>0) == 0:\n",
    "          peep_stable = True\n",
    "        else:\n",
    "          peep_stable = False\n",
    "      else:\n",
    "        peep_missing = True\n",
    "    \n",
    "      # FIO2:\n",
    "      if ~df.loc[index-min_baseline_period: index-1,'min_fio2'].isnull().any(): \n",
    "        if np.sum(df.loc[index-min_baseline_period: index-1,'min_fio2'].diff()>0) == 0:\n",
    "          fio2_stable = True\n",
    "        else:\n",
    "          fio2_stable = False\n",
    "      else:\n",
    "        fio2_missing = True\n",
    "\n",
    "      if (peep_missing & fio2_missing):\n",
    "        continue\n",
    "      elif (peep_missing & ~fio2_missing):\n",
    "        stable = fio2_stable\n",
    "      elif (~peep_missing & fio2_missing):\n",
    "        stable = peep_stable\n",
    "      else:\n",
    "        stable = (peep_stable & fio2_stable)\n",
    "\n",
    "      #print(index)\n",
    "      if not stable:\n",
    "        if index == min_baseline_period:\n",
    "          continue\n",
    "        else: \n",
    "          break\n",
    "      \n",
    "  # pick max value within the stable baseline period: i.e. same as the first day value of the baseline period\n",
    "  max_peep_stability_period = df.loc[index-min_baseline_period-1: index-min_baseline_period,'min_peep'].max()\n",
    "  max_fio2_stability_period = df.loc[index-min_baseline_period-1: index-min_baseline_period,'min_fio2'].max()\n",
    "\n",
    "  \n",
    "  # generate variables to check if the worsening oxygenation period was sustained for 2 periods\n",
    "  IsPeep_decs =  np.sum(df.loc[index-1: index,'min_peep'].diff()<0) # >0 if PEEP decreased after instability?\n",
    "  IsFio2_decs =  np.sum(df.loc[index-1: index,'min_fio2'].diff()<0) # >0 if FiO2 decreased after instability?\n",
    "\n",
    "  peep_change_now = (df.loc[index-1,'min_peep'] - max_peep_stability_period)\n",
    "  fio2_change_now = (df.loc[index-1,'min_fio2'] - max_fio2_stability_period)\n",
    "  isPeepChange_significant = (peep_change_now > peep_gps[peep_change][0]) & (peep_change_now <= peep_gps[peep_change][1])\n",
    "  isFiO2Change_significant = (fio2_change_now > fio2_gps[fio2_change][0]) & (fio2_change_now <= fio2_gps[fio2_change][1])\n",
    "\n",
    "  if (isPeepChange_significant & (IsPeep_decs==0)):\n",
    "    return (row['patientunitstayid'], df.loc[index-2,'time_hr'], df.loc[index-1,'time_hr'], 'VAC', stable)\n",
    "  elif (isFiO2Change_significant & (IsFio2_decs==0)):\n",
    "    return (row['patientunitstayid'], df.loc[index-2,'time_hr'], df.loc[index-1,'time_hr'], 'VAC', stable)\n",
    "  else:\n",
    "    return (row['patientunitstayid'], df.loc[index-2,'time_hr'], df.loc[index-1,'time_hr'], 'No VAC', stable)\n"
   ]
  },
  {
   "cell_type": "code",
   "execution_count": null,
   "metadata": {
    "colab": {},
    "colab_type": "code",
    "id": "qtwUXP-n9XGV"
   },
   "outputs": [],
   "source": [
    "\n"
   ]
  },
  {
   "cell_type": "code",
   "execution_count": 5,
   "metadata": {
    "colab": {
     "base_uri": "https://localhost:8080/",
     "height": 935
    },
    "colab_type": "code",
    "executionInfo": {
     "elapsed": 661144,
     "status": "ok",
     "timestamp": 1598833949891,
     "user": {
      "displayName": "LASITH ADHIKARI",
      "photoUrl": "",
      "userId": "10681536570841516456"
     },
     "user_tz": 240
    },
    "id": "AsHcgzODbeJU",
    "outputId": "d3f9db90-7591-4974-e21f-ed6ac061d70a"
   },
   "outputs": [
    {
     "name": "stdout",
     "output_type": "stream",
     "text": [
      "Current iteration: delta_Fio2: low ,delta_Peep: low\n",
      "1000 patientunitstayids done...\n",
      "2000 patientunitstayids done...\n",
      "3000 patientunitstayids done...\n",
      "4000 patientunitstayids done...\n",
      "Current iteration: delta_Fio2: low ,delta_Peep: med\n",
      "1000 patientunitstayids done...\n",
      "2000 patientunitstayids done...\n",
      "3000 patientunitstayids done...\n",
      "4000 patientunitstayids done...\n",
      "Current iteration: delta_Fio2: low ,delta_Peep: high\n",
      "1000 patientunitstayids done...\n",
      "2000 patientunitstayids done...\n",
      "3000 patientunitstayids done...\n",
      "4000 patientunitstayids done...\n",
      "Current iteration: delta_Fio2: med ,delta_Peep: low\n",
      "1000 patientunitstayids done...\n",
      "2000 patientunitstayids done...\n",
      "3000 patientunitstayids done...\n",
      "4000 patientunitstayids done...\n",
      "Current iteration: delta_Fio2: med ,delta_Peep: med\n",
      "1000 patientunitstayids done...\n",
      "2000 patientunitstayids done...\n",
      "3000 patientunitstayids done...\n",
      "4000 patientunitstayids done...\n",
      "Current iteration: delta_Fio2: med ,delta_Peep: high\n",
      "1000 patientunitstayids done...\n",
      "2000 patientunitstayids done...\n",
      "3000 patientunitstayids done...\n",
      "4000 patientunitstayids done...\n",
      "Current iteration: delta_Fio2: high ,delta_Peep: low\n",
      "1000 patientunitstayids done...\n",
      "2000 patientunitstayids done...\n",
      "3000 patientunitstayids done...\n",
      "4000 patientunitstayids done...\n",
      "Current iteration: delta_Fio2: high ,delta_Peep: med\n",
      "1000 patientunitstayids done...\n",
      "2000 patientunitstayids done...\n",
      "3000 patientunitstayids done...\n",
      "4000 patientunitstayids done...\n",
      "Current iteration: delta_Fio2: high ,delta_Peep: high\n",
      "1000 patientunitstayids done...\n",
      "2000 patientunitstayids done...\n",
      "3000 patientunitstayids done...\n",
      "4000 patientunitstayids done...\n"
     ]
    }
   ],
   "source": [
    "# set the variable 'df_data_file' to the dataset that you are interested from the above list\n",
    "df_data_file = 'clean MIMIC/24/Complete_MIMIC_24_MV_final.csv'\n",
    "# 'data/MIMIC/1st_vent_ICU/24/MIMIC_24_MV_final.csv'  # CHANGE HERE\n",
    "df_data = pd.read_csv(drive_folder + df_data_file) # read the dataset to df_data\n",
    "\n",
    "# check for atleast 4 time periods for given id:\n",
    "periods_per_id = df_data.groupby('patientunitstayid')['time_hr'].count()>=4\n",
    "df_data = df_data[df_data.patientunitstayid.isin(periods_per_id[periods_per_id==True].index)].reset_index(drop=True)\n",
    "\n",
    "# forward filling peep and fio2 within each id \n",
    "df_data.min_peep = df_data.groupby('patientunitstayid')['min_peep'].ffill()\n",
    "df_data.min_fio2 = df_data.groupby('patientunitstayid')['min_fio2'].ffill()\n",
    "\n",
    "# define grid of FiO2 and Peep values to be tested\n",
    "delta_fio2  = ['low', 'med', 'high']    # CHANGE HERE. \n",
    "delta_peep  = ['low', 'med', 'high']    # CHANGE HERE. \n",
    "\n",
    "# define a dictionary to assign results and input parameters \n",
    "df_results = {'patientunitstayid': [], 'delta_fio2':[], 'delta_peep':[], 'unstable_start': [], 'unstable_end': [], 'VAC_outcome': [], 'IsStable':[]}\n",
    "\n",
    "for d_fio2 in delta_fio2:\n",
    "  for d_peep in delta_peep:\n",
    "    print('Current iteration: delta_Fio2:',d_fio2, ',delta_Peep:',d_peep)\n",
    "    i = 1 \n",
    "    for enct_i in df_data.patientunitstayid.unique():\n",
    "      df_i = df_data[df_data.patientunitstayid==enct_i].sort_values(by='time_hr').reset_index(drop=True)\n",
    "      if (i%1000==0):\n",
    "        print(i, 'patientunitstayids done...')\n",
    "      result_i = is_VAC(df_i, peep_change=d_peep, fio2_change=d_fio2, min_baseline_period = 2)\n",
    "      df_results['patientunitstayid'].append(result_i[0])\n",
    "      df_results['delta_fio2'].append(d_fio2)\n",
    "      df_results['delta_peep'].append(d_peep)\n",
    "      df_results['unstable_start'].append(result_i[1])\n",
    "      df_results['unstable_end'].append(result_i[2])\n",
    "      df_results['VAC_outcome'].append(result_i[3])\n",
    "      df_results['IsStable'].append(result_i[4])\n",
    "      i+=1\n",
    "df_results = pd.DataFrame(df_results)\n",
    "df_results['VAC'] = df_results.VAC_outcome.apply(lambda x: 1 if x == 'VAC' else 0) # cat code for VAC label "
   ]
  },
  {
   "cell_type": "code",
   "execution_count": 6,
   "metadata": {
    "colab": {
     "base_uri": "https://localhost:8080/",
     "height": 419
    },
    "colab_type": "code",
    "executionInfo": {
     "elapsed": 514,
     "status": "ok",
     "timestamp": 1598833950427,
     "user": {
      "displayName": "LASITH ADHIKARI",
      "photoUrl": "",
      "userId": "10681536570841516456"
     },
     "user_tz": 240
    },
    "id": "3uOR_lHLbfjq",
    "outputId": "5abb6bd5-70e4-40f7-aadd-1f10878ca132"
   },
   "outputs": [
    {
     "data": {
      "text/html": [
       "<div>\n",
       "<style scoped>\n",
       "    .dataframe tbody tr th:only-of-type {\n",
       "        vertical-align: middle;\n",
       "    }\n",
       "\n",
       "    .dataframe tbody tr th {\n",
       "        vertical-align: top;\n",
       "    }\n",
       "\n",
       "    .dataframe thead th {\n",
       "        text-align: right;\n",
       "    }\n",
       "</style>\n",
       "<table border=\"1\" class=\"dataframe\">\n",
       "  <thead>\n",
       "    <tr style=\"text-align: right;\">\n",
       "      <th></th>\n",
       "      <th>patientunitstayid</th>\n",
       "      <th>delta_fio2</th>\n",
       "      <th>delta_peep</th>\n",
       "      <th>unstable_start</th>\n",
       "      <th>unstable_end</th>\n",
       "      <th>VAC_outcome</th>\n",
       "      <th>IsStable</th>\n",
       "      <th>VAC</th>\n",
       "    </tr>\n",
       "  </thead>\n",
       "  <tbody>\n",
       "    <tr>\n",
       "      <td>0</td>\n",
       "      <td>200033.0</td>\n",
       "      <td>low</td>\n",
       "      <td>low</td>\n",
       "      <td>192</td>\n",
       "      <td>216</td>\n",
       "      <td>No VAC</td>\n",
       "      <td>True</td>\n",
       "      <td>0</td>\n",
       "    </tr>\n",
       "    <tr>\n",
       "      <td>1</td>\n",
       "      <td>200046.0</td>\n",
       "      <td>low</td>\n",
       "      <td>low</td>\n",
       "      <td>264</td>\n",
       "      <td>288</td>\n",
       "      <td>No VAC</td>\n",
       "      <td>False</td>\n",
       "      <td>0</td>\n",
       "    </tr>\n",
       "    <tr>\n",
       "      <td>2</td>\n",
       "      <td>200059.0</td>\n",
       "      <td>low</td>\n",
       "      <td>low</td>\n",
       "      <td>144</td>\n",
       "      <td>168</td>\n",
       "      <td>No VAC</td>\n",
       "      <td>True</td>\n",
       "      <td>0</td>\n",
       "    </tr>\n",
       "    <tr>\n",
       "      <td>3</td>\n",
       "      <td>200063.0</td>\n",
       "      <td>low</td>\n",
       "      <td>low</td>\n",
       "      <td>96</td>\n",
       "      <td>120</td>\n",
       "      <td>VAC</td>\n",
       "      <td>False</td>\n",
       "      <td>1</td>\n",
       "    </tr>\n",
       "    <tr>\n",
       "      <td>4</td>\n",
       "      <td>200065.0</td>\n",
       "      <td>low</td>\n",
       "      <td>low</td>\n",
       "      <td>144</td>\n",
       "      <td>168</td>\n",
       "      <td>VAC</td>\n",
       "      <td>False</td>\n",
       "      <td>1</td>\n",
       "    </tr>\n",
       "    <tr>\n",
       "      <td>...</td>\n",
       "      <td>...</td>\n",
       "      <td>...</td>\n",
       "      <td>...</td>\n",
       "      <td>...</td>\n",
       "      <td>...</td>\n",
       "      <td>...</td>\n",
       "      <td>...</td>\n",
       "      <td>...</td>\n",
       "    </tr>\n",
       "    <tr>\n",
       "      <td>43789</td>\n",
       "      <td>299903.0</td>\n",
       "      <td>high</td>\n",
       "      <td>high</td>\n",
       "      <td>96</td>\n",
       "      <td>120</td>\n",
       "      <td>No VAC</td>\n",
       "      <td>True</td>\n",
       "      <td>0</td>\n",
       "    </tr>\n",
       "    <tr>\n",
       "      <td>43790</td>\n",
       "      <td>299925.0</td>\n",
       "      <td>high</td>\n",
       "      <td>high</td>\n",
       "      <td>120</td>\n",
       "      <td>144</td>\n",
       "      <td>No VAC</td>\n",
       "      <td>False</td>\n",
       "      <td>0</td>\n",
       "    </tr>\n",
       "    <tr>\n",
       "      <td>43791</td>\n",
       "      <td>299956.0</td>\n",
       "      <td>high</td>\n",
       "      <td>high</td>\n",
       "      <td>48</td>\n",
       "      <td>72</td>\n",
       "      <td>No VAC</td>\n",
       "      <td>False</td>\n",
       "      <td>0</td>\n",
       "    </tr>\n",
       "    <tr>\n",
       "      <td>43792</td>\n",
       "      <td>299963.0</td>\n",
       "      <td>high</td>\n",
       "      <td>high</td>\n",
       "      <td>72</td>\n",
       "      <td>96</td>\n",
       "      <td>No VAC</td>\n",
       "      <td>True</td>\n",
       "      <td>0</td>\n",
       "    </tr>\n",
       "    <tr>\n",
       "      <td>43793</td>\n",
       "      <td>299988.0</td>\n",
       "      <td>high</td>\n",
       "      <td>high</td>\n",
       "      <td>144</td>\n",
       "      <td>168</td>\n",
       "      <td>No VAC</td>\n",
       "      <td>False</td>\n",
       "      <td>0</td>\n",
       "    </tr>\n",
       "  </tbody>\n",
       "</table>\n",
       "<p>43794 rows × 8 columns</p>\n",
       "</div>"
      ],
      "text/plain": [
       "       patientunitstayid delta_fio2 delta_peep  unstable_start  unstable_end  \\\n",
       "0               200033.0        low        low             192           216   \n",
       "1               200046.0        low        low             264           288   \n",
       "2               200059.0        low        low             144           168   \n",
       "3               200063.0        low        low              96           120   \n",
       "4               200065.0        low        low             144           168   \n",
       "...                  ...        ...        ...             ...           ...   \n",
       "43789           299903.0       high       high              96           120   \n",
       "43790           299925.0       high       high             120           144   \n",
       "43791           299956.0       high       high              48            72   \n",
       "43792           299963.0       high       high              72            96   \n",
       "43793           299988.0       high       high             144           168   \n",
       "\n",
       "      VAC_outcome  IsStable  VAC  \n",
       "0          No VAC      True    0  \n",
       "1          No VAC     False    0  \n",
       "2          No VAC      True    0  \n",
       "3             VAC     False    1  \n",
       "4             VAC     False    1  \n",
       "...           ...       ...  ...  \n",
       "43789      No VAC      True    0  \n",
       "43790      No VAC     False    0  \n",
       "43791      No VAC     False    0  \n",
       "43792      No VAC      True    0  \n",
       "43793      No VAC     False    0  \n",
       "\n",
       "[43794 rows x 8 columns]"
      ]
     },
     "execution_count": 6,
     "metadata": {},
     "output_type": "execute_result"
    }
   ],
   "source": [
    "# Print results with VAC or No VAC label for each patient for different delta FiO2/Peep changes \n",
    "df_results"
   ]
  },
  {
   "cell_type": "code",
   "execution_count": 24,
   "metadata": {
    "colab": {
     "base_uri": "https://localhost:8080/",
     "height": 17
    },
    "colab_type": "code",
    "executionInfo": {
     "elapsed": 909,
     "status": "ok",
     "timestamp": 1598833951342,
     "user": {
      "displayName": "LASITH ADHIKARI",
      "photoUrl": "",
      "userId": "10681536570841516456"
     },
     "user_tz": 240
    },
    "id": "mkGDV38dQNDY",
    "outputId": "4f2221aa-ca71-4f81-d956-6461b228b151"
   },
   "outputs": [],
   "source": [
    "#df_results.to_csv('MIMIC_1st_vent_ICU_VAC_24hr_grouped_Aug30.csv',index=False)\n",
    "#files.download('MIMIC_1st_vent_ICU_VAC_24hr_grouped_Aug30.csv')\n",
    "\n",
    "# load saved df_results data if needed:\n",
    "#df_result_file = 'Results/eICU/eICU_1st_vent_ICU_VAC_24hr_jun20.csv'  # CHANGE HERE\n",
    "#df_results = pd.read_csv(drive_folder + df_result_file) # read the dataset to df_data\n",
    "\n",
    "df_results.to_csv(\n",
    "    drive_folder + 'clean MIMIC/24/MIMIC_1st_vent_ICU_VAC_24hr_grouped.' + \n",
    "    datetime.datetime.now().strftime('%Y%m%d') + '.csv',\n",
    "    index=False, header=True)"
   ]
  },
  {
   "cell_type": "markdown",
   "metadata": {
    "colab_type": "text",
    "id": "mjbP4F21oCtJ"
   },
   "source": [
    "## NoVAC/VAC label vs. clinical outcome: Mortaility"
   ]
  },
  {
   "cell_type": "markdown",
   "metadata": {
    "colab_type": "text",
    "id": "0OcVTsPopv5S"
   },
   "source": [
    "### Read mortality  outcome data"
   ]
  },
  {
   "cell_type": "code",
   "execution_count": 9,
   "metadata": {
    "colab": {},
    "colab_type": "code",
    "executionInfo": {
     "elapsed": 529,
     "status": "ok",
     "timestamp": 1598836590920,
     "user": {
      "displayName": "LASITH ADHIKARI",
      "photoUrl": "",
      "userId": "10681536570841516456"
     },
     "user_tz": 240
    },
    "id": "EiyrwxaYFPI4"
   },
   "outputs": [],
   "source": [
    "df_status = pd.read_csv(drive_folder + \"MIMIC/mimic_hospital_mortality.csv\") # read hospital mortality outcome for MIMIC\n",
    "df_status.rename(columns={'hospital_expire_flag':'Inhospital_mortality','icustay_id':'patientunitstayid' }, inplace=True)"
   ]
  },
  {
   "cell_type": "code",
   "execution_count": 10,
   "metadata": {
    "colab": {
     "base_uri": "https://localhost:8080/",
     "height": 204
    },
    "colab_type": "code",
    "executionInfo": {
     "elapsed": 354,
     "status": "ok",
     "timestamp": 1598837691102,
     "user": {
      "displayName": "LASITH ADHIKARI",
      "photoUrl": "",
      "userId": "10681536570841516456"
     },
     "user_tz": 240
    },
    "id": "3vOLi_CDJvCc",
    "outputId": "dc5ef678-74ea-4f8b-81f0-e84f2853ef7e"
   },
   "outputs": [
    {
     "data": {
      "text/html": [
       "<div>\n",
       "<style scoped>\n",
       "    .dataframe tbody tr th:only-of-type {\n",
       "        vertical-align: middle;\n",
       "    }\n",
       "\n",
       "    .dataframe tbody tr th {\n",
       "        vertical-align: top;\n",
       "    }\n",
       "\n",
       "    .dataframe thead th {\n",
       "        text-align: right;\n",
       "    }\n",
       "</style>\n",
       "<table border=\"1\" class=\"dataframe\">\n",
       "  <thead>\n",
       "    <tr style=\"text-align: right;\">\n",
       "      <th></th>\n",
       "      <th>subject_id</th>\n",
       "      <th>hadm_id</th>\n",
       "      <th>patientunitstayid</th>\n",
       "      <th>Inhospital_mortality</th>\n",
       "    </tr>\n",
       "  </thead>\n",
       "  <tbody>\n",
       "    <tr>\n",
       "      <td>0</td>\n",
       "      <td>268</td>\n",
       "      <td>110404</td>\n",
       "      <td>280836</td>\n",
       "      <td>1</td>\n",
       "    </tr>\n",
       "    <tr>\n",
       "      <td>1</td>\n",
       "      <td>269</td>\n",
       "      <td>106296</td>\n",
       "      <td>206613</td>\n",
       "      <td>0</td>\n",
       "    </tr>\n",
       "    <tr>\n",
       "      <td>2</td>\n",
       "      <td>270</td>\n",
       "      <td>188028</td>\n",
       "      <td>220345</td>\n",
       "      <td>0</td>\n",
       "    </tr>\n",
       "    <tr>\n",
       "      <td>3</td>\n",
       "      <td>271</td>\n",
       "      <td>173727</td>\n",
       "      <td>249196</td>\n",
       "      <td>0</td>\n",
       "    </tr>\n",
       "    <tr>\n",
       "      <td>4</td>\n",
       "      <td>272</td>\n",
       "      <td>164716</td>\n",
       "      <td>210407</td>\n",
       "      <td>0</td>\n",
       "    </tr>\n",
       "  </tbody>\n",
       "</table>\n",
       "</div>"
      ],
      "text/plain": [
       "   subject_id  hadm_id  patientunitstayid  Inhospital_mortality\n",
       "0         268   110404             280836                     1\n",
       "1         269   106296             206613                     0\n",
       "2         270   188028             220345                     0\n",
       "3         271   173727             249196                     0\n",
       "4         272   164716             210407                     0"
      ]
     },
     "execution_count": 10,
     "metadata": {},
     "output_type": "execute_result"
    }
   ],
   "source": [
    "df_status.head()"
   ]
  },
  {
   "cell_type": "code",
   "execution_count": 11,
   "metadata": {
    "colab": {
     "base_uri": "https://localhost:8080/",
     "height": 68
    },
    "colab_type": "code",
    "executionInfo": {
     "elapsed": 387,
     "status": "ok",
     "timestamp": 1598836642447,
     "user": {
      "displayName": "LASITH ADHIKARI",
      "photoUrl": "",
      "userId": "10681536570841516456"
     },
     "user_tz": 240
    },
    "id": "U4SpWxRpo__g",
    "outputId": "28828423-5ee1-481b-e9c8-7aa29d896dad"
   },
   "outputs": [
    {
     "data": {
      "text/plain": [
       "0    54923\n",
       "1     6609\n",
       "Name: Inhospital_mortality, dtype: int64"
      ]
     },
     "execution_count": 11,
     "metadata": {},
     "output_type": "execute_result"
    }
   ],
   "source": [
    "# ditribution of data\n",
    "df_status.Inhospital_mortality.value_counts()"
   ]
  },
  {
   "cell_type": "code",
   "execution_count": 12,
   "metadata": {
    "colab": {},
    "colab_type": "code",
    "executionInfo": {
     "elapsed": 335,
     "status": "ok",
     "timestamp": 1598836926995,
     "user": {
      "displayName": "LASITH ADHIKARI",
      "photoUrl": "",
      "userId": "10681536570841516456"
     },
     "user_tz": 240
    },
    "id": "sij2wvQeF6JJ"
   },
   "outputs": [],
   "source": [
    "# Merge outcome:\n",
    "df_vac_mortality = pd.merge(df_results, df_status, how='left', on='patientunitstayid' )\n",
    "\n",
    "# drop rows without mortality outcome:\n",
    "df_vac_mortality = df_vac_mortality[~df_vac_mortality.Inhospital_mortality.isnull()]\n",
    "\n",
    "# convert Inhospital_mortality to int\n",
    "df_vac_mortality.Inhospital_mortality = df_vac_mortality.Inhospital_mortality.astype('int8')"
   ]
  },
  {
   "cell_type": "code",
   "execution_count": 13,
   "metadata": {
    "colab": {},
    "colab_type": "code",
    "executionInfo": {
     "elapsed": 336,
     "status": "ok",
     "timestamp": 1598837447363,
     "user": {
      "displayName": "LASITH ADHIKARI",
      "photoUrl": "",
      "userId": "10681536570841516456"
     },
     "user_tz": 240
    },
    "id": "bXy65ONcIt7z"
   },
   "outputs": [],
   "source": [
    "df_vac_mortality['hospitaldischargestatus'] =  df_vac_mortality['Inhospital_mortality'].apply(lambda x: 'Expired' if x == 1 else 'Alive')"
   ]
  },
  {
   "cell_type": "code",
   "execution_count": 14,
   "metadata": {
    "colab": {
     "base_uri": "https://localhost:8080/",
     "height": 204
    },
    "colab_type": "code",
    "executionInfo": {
     "elapsed": 412,
     "status": "ok",
     "timestamp": 1598837531740,
     "user": {
      "displayName": "LASITH ADHIKARI",
      "photoUrl": "",
      "userId": "10681536570841516456"
     },
     "user_tz": 240
    },
    "id": "gX7MTUQApe4K",
    "outputId": "f191418d-5438-4598-9ffe-d72a79b2485c"
   },
   "outputs": [
    {
     "data": {
      "text/html": [
       "<div>\n",
       "<style scoped>\n",
       "    .dataframe tbody tr th:only-of-type {\n",
       "        vertical-align: middle;\n",
       "    }\n",
       "\n",
       "    .dataframe tbody tr th {\n",
       "        vertical-align: top;\n",
       "    }\n",
       "\n",
       "    .dataframe thead th {\n",
       "        text-align: right;\n",
       "    }\n",
       "</style>\n",
       "<table border=\"1\" class=\"dataframe\">\n",
       "  <thead>\n",
       "    <tr style=\"text-align: right;\">\n",
       "      <th></th>\n",
       "      <th>patientunitstayid</th>\n",
       "      <th>delta_fio2</th>\n",
       "      <th>delta_peep</th>\n",
       "      <th>unstable_start</th>\n",
       "      <th>unstable_end</th>\n",
       "      <th>VAC_outcome</th>\n",
       "      <th>IsStable</th>\n",
       "      <th>VAC</th>\n",
       "      <th>subject_id</th>\n",
       "      <th>hadm_id</th>\n",
       "      <th>Inhospital_mortality</th>\n",
       "      <th>hospitaldischargestatus</th>\n",
       "    </tr>\n",
       "  </thead>\n",
       "  <tbody>\n",
       "    <tr>\n",
       "      <td>0</td>\n",
       "      <td>200033.0</td>\n",
       "      <td>low</td>\n",
       "      <td>low</td>\n",
       "      <td>192</td>\n",
       "      <td>216</td>\n",
       "      <td>No VAC</td>\n",
       "      <td>True</td>\n",
       "      <td>0</td>\n",
       "      <td>56369</td>\n",
       "      <td>198650</td>\n",
       "      <td>1</td>\n",
       "      <td>Expired</td>\n",
       "    </tr>\n",
       "    <tr>\n",
       "      <td>1</td>\n",
       "      <td>200046.0</td>\n",
       "      <td>low</td>\n",
       "      <td>low</td>\n",
       "      <td>264</td>\n",
       "      <td>288</td>\n",
       "      <td>No VAC</td>\n",
       "      <td>False</td>\n",
       "      <td>0</td>\n",
       "      <td>6476</td>\n",
       "      <td>112040</td>\n",
       "      <td>0</td>\n",
       "      <td>Alive</td>\n",
       "    </tr>\n",
       "    <tr>\n",
       "      <td>2</td>\n",
       "      <td>200059.0</td>\n",
       "      <td>low</td>\n",
       "      <td>low</td>\n",
       "      <td>144</td>\n",
       "      <td>168</td>\n",
       "      <td>No VAC</td>\n",
       "      <td>True</td>\n",
       "      <td>0</td>\n",
       "      <td>28494</td>\n",
       "      <td>199133</td>\n",
       "      <td>0</td>\n",
       "      <td>Alive</td>\n",
       "    </tr>\n",
       "    <tr>\n",
       "      <td>3</td>\n",
       "      <td>200063.0</td>\n",
       "      <td>low</td>\n",
       "      <td>low</td>\n",
       "      <td>96</td>\n",
       "      <td>120</td>\n",
       "      <td>VAC</td>\n",
       "      <td>False</td>\n",
       "      <td>1</td>\n",
       "      <td>99052</td>\n",
       "      <td>129142</td>\n",
       "      <td>0</td>\n",
       "      <td>Alive</td>\n",
       "    </tr>\n",
       "    <tr>\n",
       "      <td>4</td>\n",
       "      <td>200065.0</td>\n",
       "      <td>low</td>\n",
       "      <td>low</td>\n",
       "      <td>144</td>\n",
       "      <td>168</td>\n",
       "      <td>VAC</td>\n",
       "      <td>False</td>\n",
       "      <td>1</td>\n",
       "      <td>19891</td>\n",
       "      <td>112840</td>\n",
       "      <td>0</td>\n",
       "      <td>Alive</td>\n",
       "    </tr>\n",
       "  </tbody>\n",
       "</table>\n",
       "</div>"
      ],
      "text/plain": [
       "   patientunitstayid delta_fio2 delta_peep  unstable_start  unstable_end  \\\n",
       "0           200033.0        low        low             192           216   \n",
       "1           200046.0        low        low             264           288   \n",
       "2           200059.0        low        low             144           168   \n",
       "3           200063.0        low        low              96           120   \n",
       "4           200065.0        low        low             144           168   \n",
       "\n",
       "  VAC_outcome  IsStable  VAC  subject_id  hadm_id  Inhospital_mortality  \\\n",
       "0      No VAC      True    0       56369   198650                     1   \n",
       "1      No VAC     False    0        6476   112040                     0   \n",
       "2      No VAC      True    0       28494   199133                     0   \n",
       "3         VAC     False    1       99052   129142                     0   \n",
       "4         VAC     False    1       19891   112840                     0   \n",
       "\n",
       "  hospitaldischargestatus  \n",
       "0                 Expired  \n",
       "1                   Alive  \n",
       "2                   Alive  \n",
       "3                   Alive  \n",
       "4                   Alive  "
      ]
     },
     "execution_count": 14,
     "metadata": {},
     "output_type": "execute_result"
    }
   ],
   "source": [
    "df_vac_mortality.head()"
   ]
  },
  {
   "cell_type": "code",
   "execution_count": null,
   "metadata": {
    "colab": {},
    "colab_type": "code",
    "id": "2Kf_YkPFUbSS"
   },
   "outputs": [],
   "source": []
  },
  {
   "cell_type": "code",
   "execution_count": 23,
   "metadata": {
    "colab": {
     "base_uri": "https://localhost:8080/",
     "height": 17
    },
    "colab_type": "code",
    "executionInfo": {
     "elapsed": 632,
     "status": "ok",
     "timestamp": 1598838618229,
     "user": {
      "displayName": "LASITH ADHIKARI",
      "photoUrl": "",
      "userId": "10681536570841516456"
     },
     "user_tz": 240
    },
    "id": "kDQnYdgYmB4j",
    "outputId": "ab6d87d8-99c3-4f47-e67c-946ccf727389"
   },
   "outputs": [],
   "source": [
    "# #df_vac_outcome.to_csv('eICU_1st_vent_ICU_VAC_24hr_outcomes.csv',index=False)\n",
    "# df_vac_mortality.to_csv('MIMIC_1st_vent_ICU_VAC_24hr_outcomes_grouped_Aug30.csv',index=False)  # \n",
    "# files.download('MIMIC_1st_vent_ICU_VAC_24hr_outcomes_grouped_Aug30.csv')\n",
    "\n",
    "df_vac_mortality.to_csv(\n",
    "    drive_folder + 'clean MIMIC/day/MIMIC_1st_vent_ICU_VAC_24hr_outcomes_grouped.' + \n",
    "    datetime.datetime.now().strftime('%Y%m%d') + '.csv',index=False, header=True)\n",
    "# files.download('MIMIC_1stICUVent_VAC_vs_mortality_CalDay_july21.csv')"
   ]
  },
  {
   "cell_type": "markdown",
   "metadata": {
    "colab_type": "text",
    "id": "AHiwROPSuXaj"
   },
   "source": [
    "## Analytics for each parameter setting"
   ]
  },
  {
   "cell_type": "code",
   "execution_count": 18,
   "metadata": {
    "colab": {},
    "colab_type": "code",
    "executionInfo": {
     "elapsed": 374,
     "status": "ok",
     "timestamp": 1598838952367,
     "user": {
      "displayName": "LASITH ADHIKARI",
      "photoUrl": "",
      "userId": "10681536570841516456"
     },
     "user_tz": 240
    },
    "id": "JH4agxqQOh-5"
   },
   "outputs": [],
   "source": [
    "df_vac_outcome = df_vac_mortality.copy()"
   ]
  },
  {
   "cell_type": "markdown",
   "metadata": {
    "colab_type": "text",
    "id": "919q29XOAijq"
   },
   "source": [
    "# Outcome:Mortality"
   ]
  },
  {
   "cell_type": "code",
   "execution_count": 19,
   "metadata": {
    "colab": {
     "base_uri": "https://localhost:8080/",
     "height": 1000
    },
    "colab_type": "code",
    "executionInfo": {
     "elapsed": 3283,
     "status": "ok",
     "timestamp": 1598839003496,
     "user": {
      "displayName": "LASITH ADHIKARI",
      "photoUrl": "",
      "userId": "10681536570841516456"
     },
     "user_tz": 240
    },
    "id": "QBngxDlDuehn",
    "outputId": "d06cdf67-eae4-4db3-8796-6258b3755ab4"
   },
   "outputs": [
    {
     "name": "stdout",
     "output_type": "stream",
     "text": [
      "Current parameter setting: delta_Fio2: low , delta_Peep: low\n",
      "VAC distribution(%):\n",
      "+--------+---------------+\n",
      "|        |   VAC_outcome |\n",
      "|--------+---------------|\n",
      "| No VAC |         77.85 |\n",
      "| VAC    |         22.15 |\n",
      "+--------+---------------+\n",
      "Mortality distribution(%):\n",
      "+---------+---------------------------+\n",
      "|         |   hospitaldischargestatus |\n",
      "|---------+---------------------------|\n",
      "| Alive   |                      71.7 |\n",
      "| Expired |                      28.3 |\n",
      "+---------+---------------------------+\n",
      "Confusion matrix:\n",
      "+---------------+---------+-----------+\n",
      "| VAC_outcome   |   Alive |   Expired |\n",
      "|---------------+---------+-----------|\n",
      "| No VAC        |    2788 |      1000 |\n",
      "| VAC           |     701 |       377 |\n",
      "+---------------+---------+-----------+\n",
      "Odds ratio:  1.499 , p-value: 6.188447940281966e-08\n",
      "##########################-------------------------###############################\n",
      "Current parameter setting: delta_Fio2: low , delta_Peep: med\n",
      "VAC distribution(%):\n",
      "+--------+---------------+\n",
      "|        |   VAC_outcome |\n",
      "|--------+---------------|\n",
      "| No VAC |         83.97 |\n",
      "| VAC    |         16.03 |\n",
      "+--------+---------------+\n",
      "Mortality distribution(%):\n",
      "+---------+---------------------------+\n",
      "|         |   hospitaldischargestatus |\n",
      "|---------+---------------------------|\n",
      "| Alive   |                      71.7 |\n",
      "| Expired |                      28.3 |\n",
      "+---------+---------------------------+\n",
      "Confusion matrix:\n",
      "+---------------+---------+-----------+\n",
      "| VAC_outcome   |   Alive |   Expired |\n",
      "|---------------+---------+-----------|\n",
      "| No VAC        |    3003 |      1083 |\n",
      "| VAC           |     486 |       294 |\n",
      "+---------------+---------+-----------+\n",
      "Odds ratio:  1.677 , p-value: 6.300166204990113e-10\n",
      "##########################-------------------------###############################\n",
      "Current parameter setting: delta_Fio2: low , delta_Peep: high\n",
      "VAC distribution(%):\n",
      "+--------+---------------+\n",
      "|        |   VAC_outcome |\n",
      "|--------+---------------|\n",
      "| No VAC |         86.89 |\n",
      "| VAC    |         13.11 |\n",
      "+--------+---------------+\n",
      "Mortality distribution(%):\n",
      "+---------+---------------------------+\n",
      "|         |   hospitaldischargestatus |\n",
      "|---------+---------------------------|\n",
      "| Alive   |                      71.7 |\n",
      "| Expired |                      28.3 |\n",
      "+---------+---------------------------+\n",
      "Confusion matrix:\n",
      "+---------------+---------+-----------+\n",
      "| VAC_outcome   |   Alive |   Expired |\n",
      "|---------------+---------+-----------|\n",
      "| No VAC        |    3088 |      1140 |\n",
      "| VAC           |     401 |       237 |\n",
      "+---------------+---------+-----------+\n",
      "Odds ratio:  1.601 , p-value: 1.9804447568892604e-07\n",
      "##########################-------------------------###############################\n",
      "Current parameter setting: delta_Fio2: med , delta_Peep: low\n",
      "VAC distribution(%):\n",
      "+--------+---------------+\n",
      "|        |   VAC_outcome |\n",
      "|--------+---------------|\n",
      "| No VAC |         88.37 |\n",
      "| VAC    |         11.63 |\n",
      "+--------+---------------+\n",
      "Mortality distribution(%):\n",
      "+---------+---------------------------+\n",
      "|         |   hospitaldischargestatus |\n",
      "|---------+---------------------------|\n",
      "| Alive   |                      71.7 |\n",
      "| Expired |                      28.3 |\n",
      "+---------+---------------------------+\n",
      "Confusion matrix:\n",
      "+---------------+---------+-----------+\n",
      "| VAC_outcome   |   Alive |   Expired |\n",
      "|---------------+---------+-----------|\n",
      "| No VAC        |    3124 |      1176 |\n",
      "| VAC           |     365 |       201 |\n",
      "+---------------+---------+-----------+\n",
      "Odds ratio:  1.463 , p-value: 6.984381336829748e-05\n",
      "##########################-------------------------###############################\n",
      "Current parameter setting: delta_Fio2: med , delta_Peep: med\n",
      "VAC distribution(%):\n",
      "+--------+---------------+\n",
      "|        |   VAC_outcome |\n",
      "|--------+---------------|\n",
      "| No VAC |         95.15 |\n",
      "| VAC    |          4.85 |\n",
      "+--------+---------------+\n",
      "Mortality distribution(%):\n",
      "+---------+---------------------------+\n",
      "|         |   hospitaldischargestatus |\n",
      "|---------+---------------------------|\n",
      "| Alive   |                      71.7 |\n",
      "| Expired |                      28.3 |\n",
      "+---------+---------------------------+\n",
      "Confusion matrix:\n",
      "+---------------+---------+-----------+\n",
      "| VAC_outcome   |   Alive |   Expired |\n",
      "|---------------+---------+-----------|\n",
      "| No VAC        |    3352 |      1278 |\n",
      "| VAC           |     137 |        99 |\n",
      "+---------------+---------+-----------+\n",
      "Odds ratio:  1.895 , p-value: 5.237937732598983e-06\n",
      "##########################-------------------------###############################\n",
      "Current parameter setting: delta_Fio2: med , delta_Peep: high\n",
      "VAC distribution(%):\n",
      "+--------+---------------+\n",
      "|        |   VAC_outcome |\n",
      "|--------+---------------|\n",
      "| No VAC |         98.46 |\n",
      "| VAC    |          1.54 |\n",
      "+--------+---------------+\n",
      "Mortality distribution(%):\n",
      "+---------+---------------------------+\n",
      "|         |   hospitaldischargestatus |\n",
      "|---------+---------------------------|\n",
      "| Alive   |                      71.7 |\n",
      "| Expired |                      28.3 |\n",
      "+---------+---------------------------+\n",
      "Confusion matrix:\n",
      "+---------------+---------+-----------+\n",
      "| VAC_outcome   |   Alive |   Expired |\n",
      "|---------------+---------+-----------|\n",
      "| No VAC        |    3451 |      1340 |\n",
      "| VAC           |      38 |        37 |\n",
      "+---------------+---------+-----------+\n",
      "Odds ratio:  2.508 , p-value: 0.00013426470894159633\n",
      "##########################-------------------------###############################\n",
      "Current parameter setting: delta_Fio2: high , delta_Peep: low\n",
      "VAC distribution(%):\n",
      "+--------+---------------+\n",
      "|        |   VAC_outcome |\n",
      "|--------+---------------|\n",
      "| No VAC |         88.74 |\n",
      "| VAC    |         11.26 |\n",
      "+--------+---------------+\n",
      "Mortality distribution(%):\n",
      "+---------+---------------------------+\n",
      "|         |   hospitaldischargestatus |\n",
      "|---------+---------------------------|\n",
      "| Alive   |                      71.7 |\n",
      "| Expired |                      28.3 |\n",
      "+---------+---------------------------+\n",
      "Confusion matrix:\n",
      "+---------------+---------+-----------+\n",
      "| VAC_outcome   |   Alive |   Expired |\n",
      "|---------------+---------+-----------|\n",
      "| No VAC        |    3128 |      1190 |\n",
      "| VAC           |     361 |       187 |\n",
      "+---------------+---------+-----------+\n",
      "Odds ratio:  1.362 , p-value: 0.001512304742945058\n",
      "##########################-------------------------###############################\n",
      "Current parameter setting: delta_Fio2: high , delta_Peep: med\n",
      "VAC distribution(%):\n",
      "+--------+---------------+\n",
      "|        |   VAC_outcome |\n",
      "|--------+---------------|\n",
      "| No VAC |         95.46 |\n",
      "| VAC    |          4.54 |\n",
      "+--------+---------------+\n",
      "Mortality distribution(%):\n",
      "+---------+---------------------------+\n",
      "|         |   hospitaldischargestatus |\n",
      "|---------+---------------------------|\n",
      "| Alive   |                      71.7 |\n",
      "| Expired |                      28.3 |\n",
      "+---------+---------------------------+\n",
      "Confusion matrix:\n",
      "+---------------+---------+-----------+\n",
      "| VAC_outcome   |   Alive |   Expired |\n",
      "|---------------+---------+-----------|\n",
      "| No VAC        |    3356 |      1289 |\n",
      "| VAC           |     133 |        88 |\n",
      "+---------------+---------+-----------+\n",
      "Odds ratio:  1.723 , p-value: 0.00016778915540499145\n",
      "##########################-------------------------###############################\n",
      "Current parameter setting: delta_Fio2: high , delta_Peep: high\n",
      "VAC distribution(%):\n",
      "+--------+---------------+\n",
      "|        |   VAC_outcome |\n",
      "|--------+---------------|\n",
      "| No VAC |         98.87 |\n",
      "| VAC    |          1.13 |\n",
      "+--------+---------------+\n",
      "Mortality distribution(%):\n",
      "+---------+---------------------------+\n",
      "|         |   hospitaldischargestatus |\n",
      "|---------+---------------------------|\n",
      "| Alive   |                      71.7 |\n",
      "| Expired |                      28.3 |\n",
      "+---------+---------------------------+\n",
      "Confusion matrix:\n",
      "+---------------+---------+-----------+\n",
      "| VAC_outcome   |   Alive |   Expired |\n",
      "|---------------+---------+-----------|\n",
      "| No VAC        |    3456 |      1355 |\n",
      "| VAC           |      33 |        22 |\n",
      "+---------------+---------+-----------+\n",
      "Odds ratio:  1.7 , p-value: 0.06937789407113967\n",
      "##########################-------------------------###############################\n",
      "####################################    SUMMARY   ####################################\n",
      "+------------+-------------+-------------+--------------+\n",
      "|            |   dFio2:low |   dFio2:med |   dFio2:high |\n",
      "|------------+-------------+-------------+--------------|\n",
      "| dPeep:low  |       1.499 |       1.463 |        1.362 |\n",
      "| dPeep:med  |       1.677 |       1.895 |        1.723 |\n",
      "| dPeep:high |       1.601 |       2.508 |        1.7   |\n",
      "+------------+-------------+-------------+--------------+\n"
     ]
    }
   ],
   "source": [
    "OR_results = {}\n",
    "outcome_ = 'hospitaldischargestatus'\n",
    "\n",
    "# define grid of FiO2 and Peep values to be tested\n",
    "delta_fio2  = ['low', 'med', 'high']  # CHANGE HERE\n",
    "delta_peep  = ['low', 'med', 'high']  # CHANGE HERE\n",
    "\n",
    "for d_fio2 in delta_fio2:\n",
    "  OR_results['dFio2:'+str(d_fio2)] = []\n",
    "  for d_peep in delta_peep:\n",
    "    print('Current parameter setting: delta_Fio2:',d_fio2, ', delta_Peep:',d_peep)\n",
    "\n",
    "    df_analytics = df_vac_outcome[(df_vac_outcome.delta_fio2==d_fio2) & (df_vac_outcome.delta_peep==d_peep)]\n",
    "\n",
    "    # VAC distribution:\n",
    "    print('VAC distribution(%):')\n",
    "    vac_distn = np.round(df_analytics.VAC_outcome.value_counts()/df_analytics.VAC_outcome.value_counts().sum()*100,2)\n",
    "    #print(vac_distn.to_frame())\n",
    "    print(tabulate(vac_distn.to_frame(), headers='keys', tablefmt='psql'))\n",
    "\n",
    "    # Outcome distribution:\n",
    "    print('Mortality distribution(%):')\n",
    "    outcom_distn = np.round(df_analytics[outcome_].value_counts()/df_analytics[outcome_].value_counts().sum()*100,2)\n",
    "    #print(outcom_distn.to_frame())\n",
    "    print(tabulate(outcom_distn.to_frame(), headers='keys', tablefmt='psql'))\n",
    "\n",
    "    # crosstab:\n",
    "    print('Confusion matrix:')\n",
    "    tbl = np.round(pd.crosstab(df_analytics.VAC_outcome, df_analytics[outcome_], dropna=False), 2)\n",
    "    print(tabulate(tbl, headers='keys', tablefmt='psql'))\n",
    "\n",
    "    # crosstab - percentage\n",
    "    #print('Confusion matrix (%):')\n",
    "    #tbl_perc = np.round(pd.crosstab(df_analytics.VAC_outcome, df_analytics.hospitaldischargestatus, dropna=False)/df_analytics.patientunitstayid.nunique()*100, 2)  \n",
    "    #print(tabulate(tbl_perc, headers='keys', tablefmt='psql'))\n",
    "\n",
    "    # compute odd-ratio:\n",
    "    oddsratio, pvalue = stats.fisher_exact(np.array(tbl))\n",
    "    print(\"Odds ratio: \", round(oddsratio,3), \", p-value:\", pvalue) \n",
    "\n",
    "    OR_results['dFio2:'+str(d_fio2)].append(round(oddsratio,3))\n",
    "\n",
    "    print('##########################-------------------------###############################')\n",
    "\n",
    "# for visualization, generate table with OR for all different param.\n",
    "index_list = []\n",
    "for d_peep in delta_peep:\n",
    "    index_list.append('dPeep:'+str(d_peep))\n",
    "OR_results_df = pd.DataFrame(OR_results, index=index_list) \n",
    "\n",
    "print('####################################    SUMMARY   ####################################')\n",
    "print(tabulate(OR_results_df, headers='keys', tablefmt='psql'))\n"
   ]
  },
  {
   "cell_type": "code",
   "execution_count": null,
   "metadata": {
    "colab": {},
    "colab_type": "code",
    "id": "cBfNOMVQEV2N"
   },
   "outputs": [],
   "source": []
  },
  {
   "cell_type": "markdown",
   "metadata": {
    "colab_type": "text",
    "id": "t5u2X44cPkRs"
   },
   "source": [
    "#### Odd ratio visualization"
   ]
  },
  {
   "cell_type": "code",
   "execution_count": 20,
   "metadata": {
    "colab": {
     "base_uri": "https://localhost:8080/",
     "height": 523
    },
    "colab_type": "code",
    "executionInfo": {
     "elapsed": 799,
     "status": "ok",
     "timestamp": 1598839214889,
     "user": {
      "displayName": "LASITH ADHIKARI",
      "photoUrl": "",
      "userId": "10681536570841516456"
     },
     "user_tz": 240
    },
    "id": "-TXMvwTSEXIo",
    "outputId": "22fbd634-3633-49a1-dc32-91e6093dcc10"
   },
   "outputs": [
    {
     "data": {
      "image/png": "[encoded data removed]",
      "text/plain": [
       "<Figure size 900x600 with 2 Axes>"
      ]
     },
     "metadata": {},
     "output_type": "display_data"
    }
   ],
   "source": [
    "# \n",
    "sns.set(font_scale=1.5)  # crazy big\n",
    "f, ax = plt.subplots(figsize=(9, 6), dpi=100)\n",
    "ax = sns.heatmap(OR_results_df, annot=True, cmap=sns.color_palette(\"OrRd\", 50), fmt='.2f')\n",
    "ax.xaxis.set_tick_params(labelsize=15)\n",
    "ax.yaxis.set_tick_params(labelsize=15)"
   ]
  }
 ],
 "metadata": {
  "colab": {
   "authorship_tag": "ABX9TyOq4/ycLjsZJkfbkxP/8bb6",
   "collapsed_sections": [],
   "name": "MIMIC_1st_vent_ICU_VAC_vs_outcomes_24hr_GROUPED.ipynb",
   "provenance": []
  },
  "kernelspec": {
   "display_name": "Python 3",
   "language": "python",
   "name": "python3"
  },
  "language_info": {
   "codemirror_mode": {
    "name": "ipython",
    "version": 3
   },
   "file_extension": ".py",
   "mimetype": "text/x-python",
   "name": "python",
   "nbconvert_exporter": "python",
   "pygments_lexer": "ipython3",
   "version": "3.6.3"
  }
 },
 "nbformat": 4,
 "nbformat_minor": 1
}
